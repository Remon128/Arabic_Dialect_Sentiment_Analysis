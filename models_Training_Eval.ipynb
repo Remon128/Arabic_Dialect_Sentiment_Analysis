{
  "nbformat": 4,
  "nbformat_minor": 0,
  "metadata": {
    "colab": {
      "name": "models_Training_Eval.ipynb",
      "provenance": [],
      "collapsed_sections": [],
      "mount_file_id": "1GN9iPUQ0YuuPOpIv6tJPqdiKvF6n7nRe",
      "authorship_tag": "ABX9TyNqMO0mmKBhyMw03ocz2MEC",
      "include_colab_link": true
    },
    "kernelspec": {
      "name": "python3",
      "display_name": "Python 3"
    },
    "language_info": {
      "name": "python"
    },
    "accelerator": "GPU"
  },
  "cells": [
    {
      "cell_type": "markdown",
      "metadata": {
        "id": "view-in-github",
        "colab_type": "text"
      },
      "source": [
        "<a href=\"https://colab.research.google.com/github/Remon128/Arabic_Dialect_Sentiment_Analysis/blob/main/models_Training_Eval.ipynb\" target=\"_parent\"><img src=\"https://colab.research.google.com/assets/colab-badge.svg\" alt=\"Open In Colab\"/></a>"
      ]
    },
    {
      "cell_type": "code",
      "execution_count": null,
      "metadata": {
        "id": "e3w6h1eVh960"
      },
      "outputs": [],
      "source": [
        "import pandas as pd\n",
        "import numpy  as np\n",
        "import scipy  as sc\n",
        "from sklearn.model_selection import train_test_split\n",
        "import matplotlib.pyplot as plt\n",
        "plt.style.use('classic')\n",
        "%matplotlib inline\n",
        "import seaborn as sns\n",
        "import pickle"
      ]
    },
    {
      "cell_type": "code",
      "source": [
        "from google.colab import drive\n",
        "drive._mount('/content/drive')"
      ],
      "metadata": {
        "id": "aIUJQ66liQO7",
        "outputId": "23d7cde7-0943-4f1e-a84c-65bcc93bdcb7",
        "colab": {
          "base_uri": "https://localhost:8080/"
        }
      },
      "execution_count": null,
      "outputs": [
        {
          "output_type": "stream",
          "name": "stdout",
          "text": [
            "Drive already mounted at /content/drive; to attempt to forcibly remount, call drive.mount(\"/content/drive\", force_remount=True).\n"
          ]
        }
      ]
    },
    {
      "cell_type": "code",
      "source": [
        "import tensorflow as tf\n",
        "tf.test.gpu_device_name()"
      ],
      "metadata": {
        "colab": {
          "base_uri": "https://localhost:8080/",
          "height": 36
        },
        "id": "F2LdZqktU4Ha",
        "outputId": "3c95a72d-37af-40f0-cf0f-134a6aaafe5d"
      },
      "execution_count": null,
      "outputs": [
        {
          "output_type": "execute_result",
          "data": {
            "text/plain": [
              "'/device:GPU:0'"
            ],
            "application/vnd.google.colaboratory.intrinsic+json": {
              "type": "string"
            }
          },
          "metadata": {},
          "execution_count": 3
        }
      ]
    },
    {
      "cell_type": "code",
      "source": [
        "# reading Preprocced data\n",
        "df_preprocced = pd.read_csv(\"/content/drive/MyDrive/Colab Notebooks/Arabic-Sentence-Ident/dialect_dataset_v_prep.csv\", index_col=[0])\n",
        "df_preprocced.shape"
      ],
      "metadata": {
        "colab": {
          "base_uri": "https://localhost:8080/"
        },
        "id": "e8HlFLqtKbWb",
        "outputId": "b3e9ebae-a2ca-4f5c-cf12-9f7c386859c1"
      },
      "execution_count": null,
      "outputs": [
        {
          "output_type": "execute_result",
          "data": {
            "text/plain": [
              "(458197, 3)"
            ]
          },
          "metadata": {},
          "execution_count": 4
        }
      ]
    },
    {
      "cell_type": "code",
      "source": [
        "df_preprocced.info()"
      ],
      "metadata": {
        "colab": {
          "base_uri": "https://localhost:8080/"
        },
        "id": "Pr2rXCf5S8Y0",
        "outputId": "d5c88e28-d66c-41df-b951-b272ac855e62"
      },
      "execution_count": null,
      "outputs": [
        {
          "output_type": "stream",
          "name": "stdout",
          "text": [
            "<class 'pandas.core.frame.DataFrame'>\n",
            "Int64Index: 458197 entries, 0 to 458196\n",
            "Data columns (total 3 columns):\n",
            " #   Column   Non-Null Count   Dtype \n",
            "---  ------   --------------   ----- \n",
            " 0   Id       458197 non-null  int64 \n",
            " 1   Text     458158 non-null  object\n",
            " 2   Dialect  458197 non-null  object\n",
            "dtypes: int64(1), object(2)\n",
            "memory usage: 14.0+ MB\n"
          ]
        }
      ]
    },
    {
      "cell_type": "code",
      "source": [
        "# Dropping Rows with Null Values\n",
        "df_preprocced = df_preprocced.dropna()\n",
        "df_preprocced.isnull().sum()"
      ],
      "metadata": {
        "colab": {
          "base_uri": "https://localhost:8080/"
        },
        "id": "wjlrmF85TJSk",
        "outputId": "c9a8d839-d15c-439a-deb6-8a3c05884449"
      },
      "execution_count": null,
      "outputs": [
        {
          "output_type": "execute_result",
          "data": {
            "text/plain": [
              "Id         0\n",
              "Text       0\n",
              "Dialect    0\n",
              "dtype: int64"
            ]
          },
          "metadata": {},
          "execution_count": 5
        }
      ]
    },
    {
      "cell_type": "code",
      "source": [
        "# Plotting Dialects Countries Frequencies\n",
        "sns.displot(df_preprocced[\"Dialect\"])\n",
        "\n",
        "# Conclusion:  Seems that EG, PL, KW are the most Frequencies in Dialects respectively"
      ],
      "metadata": {
        "colab": {
          "base_uri": "https://localhost:8080/",
          "height": 387
        },
        "id": "MzgD8b1otlNX",
        "outputId": "08e77011-42aa-4909-ed3b-f9bdaca33f36"
      },
      "execution_count": null,
      "outputs": [
        {
          "output_type": "execute_result",
          "data": {
            "text/plain": [
              "<seaborn.axisgrid.FacetGrid at 0x7f9af9032c50>"
            ]
          },
          "metadata": {},
          "execution_count": 6
        },
        {
          "output_type": "display_data",
          "data": {
            "text/plain": [
              "<Figure size 360x360 with 1 Axes>"
            ],
            "image/png": "[encoded data removed]"
          },
          "metadata": {
            "needs_background": "light"
          }
        }
      ]
    },
    {
      "cell_type": "code",
      "source": [
        "df_preprocced.sample(5)"
      ],
      "metadata": {
        "colab": {
          "base_uri": "https://localhost:8080/",
          "height": 206
        },
        "id": "iw-s1meJvwZu",
        "outputId": "ce2d8469-541c-4b2d-da84-c85d9893834a"
      },
      "execution_count": null,
      "outputs": [
        {
          "output_type": "execute_result",
          "data": {
            "text/plain": [
              "                         Id  \\\n",
              "374152  1165241639297855488   \n",
              "114315  1172966580600414208   \n",
              "391006   872275417729814528   \n",
              "402814  1176242608710082560   \n",
              "435276  1167494169172090880   \n",
              "\n",
              "                                                     Text Dialect  \n",
              "374152  [مستخدم] هي +ه دقي +ه بلوك اه +ا تحذر +ي جايتن...      OM  \n",
              "114315  [مستخدم] حيدخل ال+ جن +ة ع طول لان +ه رب +نا ا...      PL  \n",
              "391006  [مستخدم] [مستخدم] م جاي تشوفني ال+ سن +ة ال+ ج...      OM  \n",
              "402814  [مستخدم] [مستخدم] كان حصل +ت عليهو حرمم ألبس ز...      SD  \n",
              "435276  [مستخدم] [مستخدم] [مستخدم] [مستخدم] [مستخدم] [...      BH  "
            ],
            "text/html": [
              "\n",
              "  <div id=\"df-804882c1-821f-472c-b8c0-2ae11461c7a8\">\n",
              "    <div class=\"colab-df-container\">\n",
              "      <div>\n",
              "<style scoped>\n",
              "    .dataframe tbody tr th:only-of-type {\n",
              "        vertical-align: middle;\n",
              "    }\n",
              "\n",
              "    .dataframe tbody tr th {\n",
              "        vertical-align: top;\n",
              "    }\n",
              "\n",
              "    .dataframe thead th {\n",
              "        text-align: right;\n",
              "    }\n",
              "</style>\n",
              "<table border=\"1\" class=\"dataframe\">\n",
              "  <thead>\n",
              "    <tr style=\"text-align: right;\">\n",
              "      <th></th>\n",
              "      <th>Id</th>\n",
              "      <th>Text</th>\n",
              "      <th>Dialect</th>\n",
              "    </tr>\n",
              "  </thead>\n",
              "  <tbody>\n",
              "    <tr>\n",
              "      <th>374152</th>\n",
              "      <td>1165241639297855488</td>\n",
              "      <td>[مستخدم] هي +ه دقي +ه بلوك اه +ا تحذر +ي جايتن...</td>\n",
              "      <td>OM</td>\n",
              "    </tr>\n",
              "    <tr>\n",
              "      <th>114315</th>\n",
              "      <td>1172966580600414208</td>\n",
              "      <td>[مستخدم] حيدخل ال+ جن +ة ع طول لان +ه رب +نا ا...</td>\n",
              "      <td>PL</td>\n",
              "    </tr>\n",
              "    <tr>\n",
              "      <th>391006</th>\n",
              "      <td>872275417729814528</td>\n",
              "      <td>[مستخدم] [مستخدم] م جاي تشوفني ال+ سن +ة ال+ ج...</td>\n",
              "      <td>OM</td>\n",
              "    </tr>\n",
              "    <tr>\n",
              "      <th>402814</th>\n",
              "      <td>1176242608710082560</td>\n",
              "      <td>[مستخدم] [مستخدم] كان حصل +ت عليهو حرمم ألبس ز...</td>\n",
              "      <td>SD</td>\n",
              "    </tr>\n",
              "    <tr>\n",
              "      <th>435276</th>\n",
              "      <td>1167494169172090880</td>\n",
              "      <td>[مستخدم] [مستخدم] [مستخدم] [مستخدم] [مستخدم] [...</td>\n",
              "      <td>BH</td>\n",
              "    </tr>\n",
              "  </tbody>\n",
              "</table>\n",
              "</div>\n",
              "      <button class=\"colab-df-convert\" onclick=\"convertToInteractive('df-804882c1-821f-472c-b8c0-2ae11461c7a8')\"\n",
              "              title=\"Convert this dataframe to an interactive table.\"\n",
              "              style=\"display:none;\">\n",
              "        \n",
              "  <svg xmlns=\"http://www.w3.org/2000/svg\" height=\"24px\"viewBox=\"0 0 24 24\"\n",
              "       width=\"24px\">\n",
              "    <path d=\"M0 0h24v24H0V0z\" fill=\"none\"/>\n",
              "    <path d=\"M18.56 5.44l.94 2.06.94-2.06 2.06-.94-2.06-.94-.94-2.06-.94 2.06-2.06.94zm-11 1L8.5 8.5l.94-2.06 2.06-.94-2.06-.94L8.5 2.5l-.94 2.06-2.06.94zm10 10l.94 2.06.94-2.06 2.06-.94-2.06-.94-.94-2.06-.94 2.06-2.06.94z\"/><path d=\"M17.41 7.96l-1.37-1.37c-.4-.4-.92-.59-1.43-.59-.52 0-1.04.2-1.43.59L10.3 9.45l-7.72 7.72c-.78.78-.78 2.05 0 2.83L4 21.41c.39.39.9.59 1.41.59.51 0 1.02-.2 1.41-.59l7.78-7.78 2.81-2.81c.8-.78.8-2.07 0-2.86zM5.41 20L4 18.59l7.72-7.72 1.47 1.35L5.41 20z\"/>\n",
              "  </svg>\n",
              "      </button>\n",
              "      \n",
              "  <style>\n",
              "    .colab-df-container {\n",
              "      display:flex;\n",
              "      flex-wrap:wrap;\n",
              "      gap: 12px;\n",
              "    }\n",
              "\n",
              "    .colab-df-convert {\n",
              "      background-color: #E8F0FE;\n",
              "      border: none;\n",
              "      border-radius: 50%;\n",
              "      cursor: pointer;\n",
              "      display: none;\n",
              "      fill: #1967D2;\n",
              "      height: 32px;\n",
              "      padding: 0 0 0 0;\n",
              "      width: 32px;\n",
              "    }\n",
              "\n",
              "    .colab-df-convert:hover {\n",
              "      background-color: #E2EBFA;\n",
              "      box-shadow: 0px 1px 2px rgba(60, 64, 67, 0.3), 0px 1px 3px 1px rgba(60, 64, 67, 0.15);\n",
              "      fill: #174EA6;\n",
              "    }\n",
              "\n",
              "    [theme=dark] .colab-df-convert {\n",
              "      background-color: #3B4455;\n",
              "      fill: #D2E3FC;\n",
              "    }\n",
              "\n",
              "    [theme=dark] .colab-df-convert:hover {\n",
              "      background-color: #434B5C;\n",
              "      box-shadow: 0px 1px 3px 1px rgba(0, 0, 0, 0.15);\n",
              "      filter: drop-shadow(0px 1px 2px rgba(0, 0, 0, 0.3));\n",
              "      fill: #FFFFFF;\n",
              "    }\n",
              "  </style>\n",
              "\n",
              "      <script>\n",
              "        const buttonEl =\n",
              "          document.querySelector('#df-804882c1-821f-472c-b8c0-2ae11461c7a8 button.colab-df-convert');\n",
              "        buttonEl.style.display =\n",
              "          google.colab.kernel.accessAllowed ? 'block' : 'none';\n",
              "\n",
              "        async function convertToInteractive(key) {\n",
              "          const element = document.querySelector('#df-804882c1-821f-472c-b8c0-2ae11461c7a8');\n",
              "          const dataTable =\n",
              "            await google.colab.kernel.invokeFunction('convertToInteractive',\n",
              "                                                     [key], {});\n",
              "          if (!dataTable) return;\n",
              "\n",
              "          const docLinkHtml = 'Like what you see? Visit the ' +\n",
              "            '<a target=\"_blank\" href=https://colab.research.google.com/notebooks/data_table.ipynb>data table notebook</a>'\n",
              "            + ' to learn more about interactive tables.';\n",
              "          element.innerHTML = '';\n",
              "          dataTable['output_type'] = 'display_data';\n",
              "          await google.colab.output.renderOutput(dataTable, element);\n",
              "          const docLink = document.createElement('div');\n",
              "          docLink.innerHTML = docLinkHtml;\n",
              "          element.appendChild(docLink);\n",
              "        }\n",
              "      </script>\n",
              "    </div>\n",
              "  </div>\n",
              "  "
            ]
          },
          "metadata": {},
          "execution_count": 8
        }
      ]
    },
    {
      "cell_type": "code",
      "source": [
        "!pip3 install --upgrade gensim"
      ],
      "metadata": {
        "id": "Cr-OG3SRvxOm"
      },
      "execution_count": null,
      "outputs": []
    },
    {
      "cell_type": "code",
      "source": [
        "#Splitting Data\n",
        "X_data, y_data = np.array(df_preprocced['Text']), np.array(df_preprocced['Dialect'])"
      ],
      "metadata": {
        "id": "9t0G_9oMQ6o8"
      },
      "execution_count": null,
      "outputs": []
    },
    {
      "cell_type": "code",
      "source": [
        "from gensim.models import word2vec\n",
        "Embedding_dimensions = 100\n",
        "\n",
        "# Creating Word2Vec training dataset.\n",
        "toknized_data = list(map(lambda x: x.split(), X_data))\n",
        "len(toknized_data)"
      ],
      "metadata": {
        "colab": {
          "base_uri": "https://localhost:8080/"
        },
        "id": "jPHIzTiBLBrq",
        "outputId": "c799c399-dc02-44e4-fb2a-b1d132f3709a"
      },
      "execution_count": null,
      "outputs": [
        {
          "output_type": "execute_result",
          "data": {
            "text/plain": [
              "458158"
            ]
          },
          "metadata": {},
          "execution_count": 8
        }
      ]
    },
    {
      "cell_type": "code",
      "source": [
        "# Defining the model and training it.\n",
        "word2vec_model = word2vec.Word2Vec(toknized_data,\n",
        "                 vector_size=Embedding_dimensions,\n",
        "                 workers=8,\n",
        "                 min_count=1)\n",
        "\n",
        "print(\"Vocabulary Length:\", len(word2vec_model.wv.key_to_index))"
      ],
      "metadata": {
        "colab": {
          "base_uri": "https://localhost:8080/"
        },
        "id": "ZzExcGyoLW7z",
        "outputId": "c848a089-9b3c-45e1-fa99-ac485c9efdf9"
      },
      "execution_count": null,
      "outputs": [
        {
          "output_type": "stream",
          "name": "stdout",
          "text": [
            "Vocabulary Length: 247165\n"
          ]
        }
      ]
    },
    {
      "cell_type": "code",
      "source": [
        "word2vec_model.wv.most_similar('قول')"
      ],
      "metadata": {
        "colab": {
          "base_uri": "https://localhost:8080/"
        },
        "id": "5XH6yGQQS7fD",
        "outputId": "995dcfdf-a79d-4898-e248-e2df94dc14a3"
      },
      "execution_count": null,
      "outputs": [
        {
          "output_type": "execute_result",
          "data": {
            "text/plain": [
              "[('تقول', 0.6168926954269409),\n",
              " ('جاوب', 0.5942986607551575),\n",
              " ('قال', 0.590566873550415),\n",
              " ('يقول', 0.5865262150764465),\n",
              " ('قولو', 0.5648660063743591),\n",
              " ('أقول', 0.5616621971130371),\n",
              " ('عصب', 0.5552271604537964),\n",
              " ('اسكت', 0.5547963976860046),\n",
              " ('رد', 0.554765522480011),\n",
              " ('بقول', 0.5546392202377319)]"
            ]
          },
          "metadata": {},
          "execution_count": 11
        }
      ]
    },
    {
      "cell_type": "code",
      "source": [
        "#saving word2Vec.wv model\n",
        "word2vec_model.wv.save(\"/content/drive/MyDrive/Colab Notebooks/Arabic-Sentence-Ident/word2vec_twitter_Model\")"
      ],
      "metadata": {
        "id": "ei_q5Bj67wG2"
      },
      "execution_count": null,
      "outputs": []
    },
    {
      "cell_type": "code",
      "source": [
        "# Prepare word2vec data set Features\n",
        "\n",
        "def get_wordVec_Mean(tokens, size):\n",
        "  count = 0\n",
        "  vec = np.zeros(size).reshape((1,size))\n",
        "  for word in tokens:\n",
        "    try:\n",
        "      vec += word2vec_model.wv[word].reshape((1,size))\n",
        "      count += 1\n",
        "    except KeyError:\n",
        "      continue\n",
        "  if count != 0:\n",
        "    vec = vec/(count)\n",
        "  return vec"
      ],
      "metadata": {
        "id": "9yrbqnWFeKUK"
      },
      "execution_count": null,
      "outputs": []
    },
    {
      "cell_type": "code",
      "source": [
        "# Creating word2vec Features\n",
        "wordVecs_arrays = np.zeros((len(toknized_data),100))\n",
        "for i in range(len(toknized_data)):\n",
        "  wordVecs_arrays[i:] = get_wordVec_Mean(toknized_data[i], 100)\n",
        "  print(i)\n",
        "wordvec_df = pd.DataFrame(wordVecs_arrays)\n",
        "wordvec_df.shape"
      ],
      "metadata": {
        "id": "sVP775Kqy-rf"
      },
      "execution_count": null,
      "outputs": []
    },
    {
      "cell_type": "code",
      "source": [
        "wordvec_df = pd.DataFrame(wordVecs_arrays)\n",
        "wordvec_df"
      ],
      "metadata": {
        "colab": {
          "base_uri": "https://localhost:8080/",
          "height": 487
        },
        "id": "X8X8ENK81p7e",
        "outputId": "68cca73c-6b25-40f9-e9c5-fa8936517947"
      },
      "execution_count": null,
      "outputs": [
        {
          "output_type": "execute_result",
          "data": {
            "text/html": [
              "\n",
              "  <div id=\"df-c5bb5eb4-8047-4c14-88f4-e73fe5251e73\">\n",
              "    <div class=\"colab-df-container\">\n",
              "      <div>\n",
              "<style scoped>\n",
              "    .dataframe tbody tr th:only-of-type {\n",
              "        vertical-align: middle;\n",
              "    }\n",
              "\n",
              "    .dataframe tbody tr th {\n",
              "        vertical-align: top;\n",
              "    }\n",
              "\n",
              "    .dataframe thead th {\n",
              "        text-align: right;\n",
              "    }\n",
              "</style>\n",
              "<table border=\"1\" class=\"dataframe\">\n",
              "  <thead>\n",
              "    <tr style=\"text-align: right;\">\n",
              "      <th></th>\n",
              "      <th>0</th>\n",
              "      <th>1</th>\n",
              "      <th>2</th>\n",
              "      <th>3</th>\n",
              "      <th>4</th>\n",
              "      <th>5</th>\n",
              "      <th>6</th>\n",
              "      <th>7</th>\n",
              "      <th>8</th>\n",
              "      <th>9</th>\n",
              "      <th>...</th>\n",
              "      <th>90</th>\n",
              "      <th>91</th>\n",
              "      <th>92</th>\n",
              "      <th>93</th>\n",
              "      <th>94</th>\n",
              "      <th>95</th>\n",
              "      <th>96</th>\n",
              "      <th>97</th>\n",
              "      <th>98</th>\n",
              "      <th>99</th>\n",
              "    </tr>\n",
              "  </thead>\n",
              "  <tbody>\n",
              "    <tr>\n",
              "      <th>0</th>\n",
              "      <td>-0.851612</td>\n",
              "      <td>-0.318645</td>\n",
              "      <td>0.226765</td>\n",
              "      <td>0.506503</td>\n",
              "      <td>0.208673</td>\n",
              "      <td>-0.399793</td>\n",
              "      <td>1.330134</td>\n",
              "      <td>0.508803</td>\n",
              "      <td>0.022601</td>\n",
              "      <td>0.468337</td>\n",
              "      <td>...</td>\n",
              "      <td>0.056570</td>\n",
              "      <td>0.344765</td>\n",
              "      <td>0.736659</td>\n",
              "      <td>0.703503</td>\n",
              "      <td>0.356437</td>\n",
              "      <td>-0.495538</td>\n",
              "      <td>0.771770</td>\n",
              "      <td>-0.364706</td>\n",
              "      <td>-0.090529</td>\n",
              "      <td>0.333020</td>\n",
              "    </tr>\n",
              "    <tr>\n",
              "      <th>1</th>\n",
              "      <td>-0.111766</td>\n",
              "      <td>0.069446</td>\n",
              "      <td>0.118055</td>\n",
              "      <td>0.238998</td>\n",
              "      <td>0.293668</td>\n",
              "      <td>-0.623852</td>\n",
              "      <td>0.786953</td>\n",
              "      <td>0.065605</td>\n",
              "      <td>0.496566</td>\n",
              "      <td>0.012470</td>\n",
              "      <td>...</td>\n",
              "      <td>0.150807</td>\n",
              "      <td>0.134137</td>\n",
              "      <td>0.989734</td>\n",
              "      <td>0.663275</td>\n",
              "      <td>0.338228</td>\n",
              "      <td>0.028847</td>\n",
              "      <td>0.490920</td>\n",
              "      <td>-0.204406</td>\n",
              "      <td>0.003902</td>\n",
              "      <td>0.361514</td>\n",
              "    </tr>\n",
              "    <tr>\n",
              "      <th>2</th>\n",
              "      <td>-0.998933</td>\n",
              "      <td>1.252147</td>\n",
              "      <td>0.526375</td>\n",
              "      <td>0.063546</td>\n",
              "      <td>0.711073</td>\n",
              "      <td>-0.338067</td>\n",
              "      <td>1.110335</td>\n",
              "      <td>0.548993</td>\n",
              "      <td>0.141634</td>\n",
              "      <td>0.225931</td>\n",
              "      <td>...</td>\n",
              "      <td>0.373692</td>\n",
              "      <td>0.334257</td>\n",
              "      <td>0.291336</td>\n",
              "      <td>1.209944</td>\n",
              "      <td>0.189676</td>\n",
              "      <td>0.770922</td>\n",
              "      <td>0.347525</td>\n",
              "      <td>-0.446799</td>\n",
              "      <td>-0.469473</td>\n",
              "      <td>-0.083744</td>\n",
              "    </tr>\n",
              "    <tr>\n",
              "      <th>3</th>\n",
              "      <td>-1.042964</td>\n",
              "      <td>1.064216</td>\n",
              "      <td>0.130235</td>\n",
              "      <td>-0.220730</td>\n",
              "      <td>-0.032030</td>\n",
              "      <td>-0.820012</td>\n",
              "      <td>0.786370</td>\n",
              "      <td>-0.009246</td>\n",
              "      <td>0.137009</td>\n",
              "      <td>-0.038668</td>\n",
              "      <td>...</td>\n",
              "      <td>-0.121142</td>\n",
              "      <td>-0.226735</td>\n",
              "      <td>1.422243</td>\n",
              "      <td>-0.486025</td>\n",
              "      <td>0.295095</td>\n",
              "      <td>0.788409</td>\n",
              "      <td>0.153115</td>\n",
              "      <td>0.011336</td>\n",
              "      <td>-0.107902</td>\n",
              "      <td>1.194257</td>\n",
              "    </tr>\n",
              "    <tr>\n",
              "      <th>4</th>\n",
              "      <td>-0.948752</td>\n",
              "      <td>0.221547</td>\n",
              "      <td>0.483448</td>\n",
              "      <td>-0.279378</td>\n",
              "      <td>0.036630</td>\n",
              "      <td>0.096993</td>\n",
              "      <td>0.857151</td>\n",
              "      <td>0.104611</td>\n",
              "      <td>0.060606</td>\n",
              "      <td>0.284724</td>\n",
              "      <td>...</td>\n",
              "      <td>0.131373</td>\n",
              "      <td>-0.316200</td>\n",
              "      <td>0.467417</td>\n",
              "      <td>-0.975165</td>\n",
              "      <td>0.722124</td>\n",
              "      <td>1.025946</td>\n",
              "      <td>1.152330</td>\n",
              "      <td>-0.134087</td>\n",
              "      <td>0.666316</td>\n",
              "      <td>0.175676</td>\n",
              "    </tr>\n",
              "    <tr>\n",
              "      <th>...</th>\n",
              "      <td>...</td>\n",
              "      <td>...</td>\n",
              "      <td>...</td>\n",
              "      <td>...</td>\n",
              "      <td>...</td>\n",
              "      <td>...</td>\n",
              "      <td>...</td>\n",
              "      <td>...</td>\n",
              "      <td>...</td>\n",
              "      <td>...</td>\n",
              "      <td>...</td>\n",
              "      <td>...</td>\n",
              "      <td>...</td>\n",
              "      <td>...</td>\n",
              "      <td>...</td>\n",
              "      <td>...</td>\n",
              "      <td>...</td>\n",
              "      <td>...</td>\n",
              "      <td>...</td>\n",
              "      <td>...</td>\n",
              "      <td>...</td>\n",
              "    </tr>\n",
              "    <tr>\n",
              "      <th>458153</th>\n",
              "      <td>-0.699008</td>\n",
              "      <td>1.044020</td>\n",
              "      <td>-0.050264</td>\n",
              "      <td>-0.288070</td>\n",
              "      <td>0.426965</td>\n",
              "      <td>-0.613660</td>\n",
              "      <td>0.798531</td>\n",
              "      <td>0.467765</td>\n",
              "      <td>0.676595</td>\n",
              "      <td>-0.308595</td>\n",
              "      <td>...</td>\n",
              "      <td>0.462744</td>\n",
              "      <td>0.358468</td>\n",
              "      <td>1.492252</td>\n",
              "      <td>1.086809</td>\n",
              "      <td>-0.286861</td>\n",
              "      <td>-0.019343</td>\n",
              "      <td>-0.114582</td>\n",
              "      <td>0.622775</td>\n",
              "      <td>-0.053895</td>\n",
              "      <td>0.830893</td>\n",
              "    </tr>\n",
              "    <tr>\n",
              "      <th>458154</th>\n",
              "      <td>-0.544767</td>\n",
              "      <td>0.518947</td>\n",
              "      <td>0.208375</td>\n",
              "      <td>-0.168839</td>\n",
              "      <td>0.390042</td>\n",
              "      <td>-1.094819</td>\n",
              "      <td>0.775572</td>\n",
              "      <td>0.186183</td>\n",
              "      <td>0.007631</td>\n",
              "      <td>-0.660316</td>\n",
              "      <td>...</td>\n",
              "      <td>0.171143</td>\n",
              "      <td>0.294273</td>\n",
              "      <td>0.662639</td>\n",
              "      <td>-0.800782</td>\n",
              "      <td>0.398675</td>\n",
              "      <td>0.422326</td>\n",
              "      <td>-0.265336</td>\n",
              "      <td>-0.040833</td>\n",
              "      <td>-0.073757</td>\n",
              "      <td>0.662939</td>\n",
              "    </tr>\n",
              "    <tr>\n",
              "      <th>458155</th>\n",
              "      <td>-1.261204</td>\n",
              "      <td>0.577531</td>\n",
              "      <td>0.099258</td>\n",
              "      <td>0.238467</td>\n",
              "      <td>0.425999</td>\n",
              "      <td>-0.849105</td>\n",
              "      <td>0.081346</td>\n",
              "      <td>0.585299</td>\n",
              "      <td>-0.146827</td>\n",
              "      <td>-0.184899</td>\n",
              "      <td>...</td>\n",
              "      <td>0.647812</td>\n",
              "      <td>0.917146</td>\n",
              "      <td>1.865355</td>\n",
              "      <td>0.512459</td>\n",
              "      <td>-0.460892</td>\n",
              "      <td>0.280223</td>\n",
              "      <td>-0.193419</td>\n",
              "      <td>0.238049</td>\n",
              "      <td>-0.220263</td>\n",
              "      <td>0.876362</td>\n",
              "    </tr>\n",
              "    <tr>\n",
              "      <th>458156</th>\n",
              "      <td>-0.343621</td>\n",
              "      <td>0.128693</td>\n",
              "      <td>0.338566</td>\n",
              "      <td>0.703098</td>\n",
              "      <td>-0.029085</td>\n",
              "      <td>-0.623713</td>\n",
              "      <td>0.814998</td>\n",
              "      <td>0.018653</td>\n",
              "      <td>0.442091</td>\n",
              "      <td>-0.200167</td>\n",
              "      <td>...</td>\n",
              "      <td>1.149209</td>\n",
              "      <td>0.903564</td>\n",
              "      <td>0.897274</td>\n",
              "      <td>-0.595215</td>\n",
              "      <td>0.359472</td>\n",
              "      <td>0.510533</td>\n",
              "      <td>-0.051083</td>\n",
              "      <td>-0.390993</td>\n",
              "      <td>-0.623021</td>\n",
              "      <td>0.960673</td>\n",
              "    </tr>\n",
              "    <tr>\n",
              "      <th>458157</th>\n",
              "      <td>-1.008067</td>\n",
              "      <td>0.593698</td>\n",
              "      <td>-0.188379</td>\n",
              "      <td>0.000163</td>\n",
              "      <td>0.084448</td>\n",
              "      <td>-0.826956</td>\n",
              "      <td>0.555186</td>\n",
              "      <td>0.400968</td>\n",
              "      <td>-0.005363</td>\n",
              "      <td>0.044400</td>\n",
              "      <td>...</td>\n",
              "      <td>0.193840</td>\n",
              "      <td>0.309245</td>\n",
              "      <td>1.538715</td>\n",
              "      <td>-0.106222</td>\n",
              "      <td>0.477191</td>\n",
              "      <td>-0.262139</td>\n",
              "      <td>0.156536</td>\n",
              "      <td>-0.100456</td>\n",
              "      <td>0.019410</td>\n",
              "      <td>1.067971</td>\n",
              "    </tr>\n",
              "  </tbody>\n",
              "</table>\n",
              "<p>458158 rows × 100 columns</p>\n",
              "</div>\n",
              "      <button class=\"colab-df-convert\" onclick=\"convertToInteractive('df-c5bb5eb4-8047-4c14-88f4-e73fe5251e73')\"\n",
              "              title=\"Convert this dataframe to an interactive table.\"\n",
              "              style=\"display:none;\">\n",
              "        \n",
              "  <svg xmlns=\"http://www.w3.org/2000/svg\" height=\"24px\"viewBox=\"0 0 24 24\"\n",
              "       width=\"24px\">\n",
              "    <path d=\"M0 0h24v24H0V0z\" fill=\"none\"/>\n",
              "    <path d=\"M18.56 5.44l.94 2.06.94-2.06 2.06-.94-2.06-.94-.94-2.06-.94 2.06-2.06.94zm-11 1L8.5 8.5l.94-2.06 2.06-.94-2.06-.94L8.5 2.5l-.94 2.06-2.06.94zm10 10l.94 2.06.94-2.06 2.06-.94-2.06-.94-.94-2.06-.94 2.06-2.06.94z\"/><path d=\"M17.41 7.96l-1.37-1.37c-.4-.4-.92-.59-1.43-.59-.52 0-1.04.2-1.43.59L10.3 9.45l-7.72 7.72c-.78.78-.78 2.05 0 2.83L4 21.41c.39.39.9.59 1.41.59.51 0 1.02-.2 1.41-.59l7.78-7.78 2.81-2.81c.8-.78.8-2.07 0-2.86zM5.41 20L4 18.59l7.72-7.72 1.47 1.35L5.41 20z\"/>\n",
              "  </svg>\n",
              "      </button>\n",
              "      \n",
              "  <style>\n",
              "    .colab-df-container {\n",
              "      display:flex;\n",
              "      flex-wrap:wrap;\n",
              "      gap: 12px;\n",
              "    }\n",
              "\n",
              "    .colab-df-convert {\n",
              "      background-color: #E8F0FE;\n",
              "      border: none;\n",
              "      border-radius: 50%;\n",
              "      cursor: pointer;\n",
              "      display: none;\n",
              "      fill: #1967D2;\n",
              "      height: 32px;\n",
              "      padding: 0 0 0 0;\n",
              "      width: 32px;\n",
              "    }\n",
              "\n",
              "    .colab-df-convert:hover {\n",
              "      background-color: #E2EBFA;\n",
              "      box-shadow: 0px 1px 2px rgba(60, 64, 67, 0.3), 0px 1px 3px 1px rgba(60, 64, 67, 0.15);\n",
              "      fill: #174EA6;\n",
              "    }\n",
              "\n",
              "    [theme=dark] .colab-df-convert {\n",
              "      background-color: #3B4455;\n",
              "      fill: #D2E3FC;\n",
              "    }\n",
              "\n",
              "    [theme=dark] .colab-df-convert:hover {\n",
              "      background-color: #434B5C;\n",
              "      box-shadow: 0px 1px 3px 1px rgba(0, 0, 0, 0.15);\n",
              "      filter: drop-shadow(0px 1px 2px rgba(0, 0, 0, 0.3));\n",
              "      fill: #FFFFFF;\n",
              "    }\n",
              "  </style>\n",
              "\n",
              "      <script>\n",
              "        const buttonEl =\n",
              "          document.querySelector('#df-c5bb5eb4-8047-4c14-88f4-e73fe5251e73 button.colab-df-convert');\n",
              "        buttonEl.style.display =\n",
              "          google.colab.kernel.accessAllowed ? 'block' : 'none';\n",
              "\n",
              "        async function convertToInteractive(key) {\n",
              "          const element = document.querySelector('#df-c5bb5eb4-8047-4c14-88f4-e73fe5251e73');\n",
              "          const dataTable =\n",
              "            await google.colab.kernel.invokeFunction('convertToInteractive',\n",
              "                                                     [key], {});\n",
              "          if (!dataTable) return;\n",
              "\n",
              "          const docLinkHtml = 'Like what you see? Visit the ' +\n",
              "            '<a target=\"_blank\" href=https://colab.research.google.com/notebooks/data_table.ipynb>data table notebook</a>'\n",
              "            + ' to learn more about interactive tables.';\n",
              "          element.innerHTML = '';\n",
              "          dataTable['output_type'] = 'display_data';\n",
              "          await google.colab.output.renderOutput(dataTable, element);\n",
              "          const docLink = document.createElement('div');\n",
              "          docLink.innerHTML = docLinkHtml;\n",
              "          element.appendChild(docLink);\n",
              "        }\n",
              "      </script>\n",
              "    </div>\n",
              "  </div>\n",
              "  "
            ],
            "text/plain": [
              "              0         1         2         3         4         5         6   \\\n",
              "0      -0.851612 -0.318645  0.226765  0.506503  0.208673 -0.399793  1.330134   \n",
              "1      -0.111766  0.069446  0.118055  0.238998  0.293668 -0.623852  0.786953   \n",
              "2      -0.998933  1.252147  0.526375  0.063546  0.711073 -0.338067  1.110335   \n",
              "3      -1.042964  1.064216  0.130235 -0.220730 -0.032030 -0.820012  0.786370   \n",
              "4      -0.948752  0.221547  0.483448 -0.279378  0.036630  0.096993  0.857151   \n",
              "...          ...       ...       ...       ...       ...       ...       ...   \n",
              "458153 -0.699008  1.044020 -0.050264 -0.288070  0.426965 -0.613660  0.798531   \n",
              "458154 -0.544767  0.518947  0.208375 -0.168839  0.390042 -1.094819  0.775572   \n",
              "458155 -1.261204  0.577531  0.099258  0.238467  0.425999 -0.849105  0.081346   \n",
              "458156 -0.343621  0.128693  0.338566  0.703098 -0.029085 -0.623713  0.814998   \n",
              "458157 -1.008067  0.593698 -0.188379  0.000163  0.084448 -0.826956  0.555186   \n",
              "\n",
              "              7         8         9   ...        90        91        92  \\\n",
              "0       0.508803  0.022601  0.468337  ...  0.056570  0.344765  0.736659   \n",
              "1       0.065605  0.496566  0.012470  ...  0.150807  0.134137  0.989734   \n",
              "2       0.548993  0.141634  0.225931  ...  0.373692  0.334257  0.291336   \n",
              "3      -0.009246  0.137009 -0.038668  ... -0.121142 -0.226735  1.422243   \n",
              "4       0.104611  0.060606  0.284724  ...  0.131373 -0.316200  0.467417   \n",
              "...          ...       ...       ...  ...       ...       ...       ...   \n",
              "458153  0.467765  0.676595 -0.308595  ...  0.462744  0.358468  1.492252   \n",
              "458154  0.186183  0.007631 -0.660316  ...  0.171143  0.294273  0.662639   \n",
              "458155  0.585299 -0.146827 -0.184899  ...  0.647812  0.917146  1.865355   \n",
              "458156  0.018653  0.442091 -0.200167  ...  1.149209  0.903564  0.897274   \n",
              "458157  0.400968 -0.005363  0.044400  ...  0.193840  0.309245  1.538715   \n",
              "\n",
              "              93        94        95        96        97        98        99  \n",
              "0       0.703503  0.356437 -0.495538  0.771770 -0.364706 -0.090529  0.333020  \n",
              "1       0.663275  0.338228  0.028847  0.490920 -0.204406  0.003902  0.361514  \n",
              "2       1.209944  0.189676  0.770922  0.347525 -0.446799 -0.469473 -0.083744  \n",
              "3      -0.486025  0.295095  0.788409  0.153115  0.011336 -0.107902  1.194257  \n",
              "4      -0.975165  0.722124  1.025946  1.152330 -0.134087  0.666316  0.175676  \n",
              "...          ...       ...       ...       ...       ...       ...       ...  \n",
              "458153  1.086809 -0.286861 -0.019343 -0.114582  0.622775 -0.053895  0.830893  \n",
              "458154 -0.800782  0.398675  0.422326 -0.265336 -0.040833 -0.073757  0.662939  \n",
              "458155  0.512459 -0.460892  0.280223 -0.193419  0.238049 -0.220263  0.876362  \n",
              "458156 -0.595215  0.359472  0.510533 -0.051083 -0.390993 -0.623021  0.960673  \n",
              "458157 -0.106222  0.477191 -0.262139  0.156536 -0.100456  0.019410  1.067971  \n",
              "\n",
              "[458158 rows x 100 columns]"
            ]
          },
          "metadata": {},
          "execution_count": 15
        }
      ]
    },
    {
      "cell_type": "code",
      "source": [
        "wordvec_df.to_csv(\"/content/drive/MyDrive/Colab Notebooks/Arabic-Sentence-Ident/dialect_dataset_words2Vec_100F.csv\")\n"
      ],
      "metadata": {
        "id": "88cQQC2P8Njw"
      },
      "execution_count": null,
      "outputs": []
    },
    {
      "cell_type": "code",
      "source": [
        ""
      ],
      "metadata": {
        "id": "uqoWaYezB2Mo"
      },
      "execution_count": null,
      "outputs": []
    },
    {
      "cell_type": "code",
      "source": [
        "wordvec_df = pd.read_csv(\"/content/drive/MyDrive/Colab Notebooks/Arabic-Sentence-Ident/dialect_dataset_words2Vec_100F.csv\", index_col=[0])\n",
        "wordvec_df.shape"
      ],
      "metadata": {
        "colab": {
          "base_uri": "https://localhost:8080/"
        },
        "id": "dBHRHzEc8ur5",
        "outputId": "0eca0bf0-79c9-45f2-f68d-dc03814ae959"
      },
      "execution_count": null,
      "outputs": [
        {
          "output_type": "execute_result",
          "data": {
            "text/plain": [
              "(458158, 100)"
            ]
          },
          "metadata": {},
          "execution_count": 9
        }
      ]
    },
    {
      "cell_type": "code",
      "source": [
        "# Scaling Data and Normlization\n",
        "from sklearn import preprocessing\n",
        "# Scaling\n",
        "scaled_Data = preprocessing.StandardScaler().fit_transform(wordvec_df)\n",
        "scaled_Data = pd.DataFrame(scaled_Data)\n",
        "\n",
        "#Normlization\n",
        "normalized_Data = preprocessing.normalize(scaled_Data)\n",
        "normalized_Data = pd.DataFrame(normalized_Data)"
      ],
      "metadata": {
        "id": "_L-BIxPDBxcx"
      },
      "execution_count": null,
      "outputs": []
    },
    {
      "cell_type": "code",
      "source": [
        "# Label Encoding for Classes\n",
        "y_classes,_ = pd.factorize(y_data)\n",
        "y_classes = pd.DataFrame(y_classes)"
      ],
      "metadata": {
        "id": "XH2bBUxfMv2h"
      },
      "execution_count": null,
      "outputs": []
    },
    {
      "cell_type": "code",
      "source": [
        "#Splitting Data into Train and Test\n",
        "X_train, X_test, y_train, y_test = train_test_split(normalized_Data, y_classes, test_size = 0.25, shuffle=y_classes, random_state=100)\n",
        "print(X_train.shape)\n",
        "print(X_test.shape)\n",
        "print(y_train.shape)\n",
        "print(y_test.shape)"
      ],
      "metadata": {
        "colab": {
          "base_uri": "https://localhost:8080/"
        },
        "id": "ni0iHif9y_PZ",
        "outputId": "deeb152a-6315-45d2-925b-1316a20ef1b1"
      },
      "execution_count": null,
      "outputs": [
        {
          "output_type": "stream",
          "name": "stdout",
          "text": [
            "(343618, 100)\n",
            "(114540, 100)\n",
            "(343618, 1)\n",
            "(114540, 1)\n"
          ]
        }
      ]
    },
    {
      "cell_type": "markdown",
      "source": [
        "# **Machine Learning Modeling**"
      ],
      "metadata": {
        "id": "W9wFRqr2eBR6"
      }
    },
    {
      "cell_type": "code",
      "source": [
        "from sklearn.linear_model import LogisticRegression\n",
        "from sklearn import tree\n",
        "from sklearn.naive_bayes import GaussianNB\n",
        "from sklearn.svm import SVC\n",
        "from sklearn.metrics import confusion_matrix, ConfusionMatrixDisplay\n",
        "from sklearn.multiclass import OneVsRestClassifier\n",
        "from sklearn.metrics import plot_confusion_matrix\n",
        "from sklearn.metrics import multilabel_confusion_matrix"
      ],
      "metadata": {
        "id": "AFYwLA4kJST7"
      },
      "execution_count": null,
      "outputs": []
    },
    {
      "cell_type": "code",
      "source": [
        "# Logistic Regression\n",
        "model = LogisticRegression(max_iter=10000, multi_class='ovr',penalty='l2')\n",
        "trained_model = model.fit(X_train,y_train)"
      ],
      "metadata": {
        "id": "MAqhkz3IOUsc",
        "colab": {
          "base_uri": "https://localhost:8080/"
        },
        "outputId": "163c4b00-b6da-4cb8-c99f-cd27338ef131"
      },
      "execution_count": null,
      "outputs": [
        {
          "output_type": "stream",
          "name": "stderr",
          "text": [
            "/usr/local/lib/python3.7/dist-packages/sklearn/utils/validation.py:993: DataConversionWarning: A column-vector y was passed when a 1d array was expected. Please change the shape of y to (n_samples, ), for example using ravel().\n",
            "  y = column_or_1d(y, warn=True)\n"
          ]
        }
      ]
    },
    {
      "cell_type": "code",
      "source": [
        "trained_model.score(X_train,y_train)"
      ],
      "metadata": {
        "id": "nv1g6guVL2kk",
        "colab": {
          "base_uri": "https://localhost:8080/"
        },
        "outputId": "77ef4740-5bed-4fe6-8f3d-448f25cc437c"
      },
      "execution_count": null,
      "outputs": [
        {
          "output_type": "execute_result",
          "data": {
            "text/plain": [
              "0.3338707518232456"
            ]
          },
          "metadata": {},
          "execution_count": 50
        }
      ]
    },
    {
      "cell_type": "code",
      "source": [
        "trained_model.score(X_test,y_test)\n"
      ],
      "metadata": {
        "id": "NiQrRty3L3BR",
        "colab": {
          "base_uri": "https://localhost:8080/"
        },
        "outputId": "98127dea-c0cd-40cc-fa8b-0dfaf5ab717d"
      },
      "execution_count": null,
      "outputs": [
        {
          "output_type": "execute_result",
          "data": {
            "text/plain": [
              "0.3340754321634364"
            ]
          },
          "metadata": {},
          "execution_count": 51
        }
      ]
    },
    {
      "cell_type": "code",
      "source": [
        "# RandomizedSearchCV Search for SVM\n",
        "from sklearn.model_selection import RandomizedSearchCV\n",
        "from sklearn.model_selection import GridSearchCV"
      ],
      "metadata": {
        "id": "3KsAVH5-22HW"
      },
      "execution_count": null,
      "outputs": []
    },
    {
      "cell_type": "code",
      "source": [
        "# Setting Params\n",
        "parameters = {'kernel':('linear', 'rbf'), 'C':[1,2,3,4,5,6,7,8,9,10], 'degree':[1,2,3,4,5,6,7], 'gamma':('scale','float')}\n",
        "svc = SVC()\n",
        "clf = RandomizedSearchCV(svc, parameters, verbose=1)\n",
        "clf.fit(X_train[0:100000], y_train[0:100000].values.ravel())"
      ],
      "metadata": {
        "id": "IcZsKDRUgIU-",
        "colab": {
          "base_uri": "https://localhost:8080/"
        },
        "outputId": "2669acab-bca3-4a88-db88-111a58d098ea"
      },
      "execution_count": null,
      "outputs": [
        {
          "metadata": {
            "tags": null
          },
          "name": "stdout",
          "output_type": "stream",
          "text": [
            "Fitting 5 folds for each of 10 candidates, totalling 50 fits\n"
          ]
        }
      ]
    },
    {
      "cell_type": "code",
      "source": [
        "x = pd.DataFrame.from_dict(clf.cv_results_)"
      ],
      "metadata": {
        "id": "f_lk1prXNobA",
        "colab": {
          "base_uri": "https://localhost:8080/",
          "height": 1000
        },
        "outputId": "d600eb63-3ef6-4869-a2b2-fbc24422bc54"
      },
      "execution_count": null,
      "outputs": [
        {
          "output_type": "execute_result",
          "data": {
            "text/plain": [
              "   mean_fit_time  std_fit_time  mean_score_time  std_score_time param_kernel  \\\n",
              "0       0.051612      0.001858         0.000000        0.000000          rbf   \n",
              "1     190.447674     13.962916        38.826248        0.681723       linear   \n",
              "2       0.032934      0.000276         0.000000        0.000000          rbf   \n",
              "3     140.058878      0.672793        38.744985        0.219024       linear   \n",
              "4     219.051219      0.661376        65.049905        0.073947          rbf   \n",
              "5     252.176691      0.677678        64.118859        0.118898          rbf   \n",
              "6       0.034190      0.002278         0.000000        0.000000          rbf   \n",
              "7       0.032684      0.000224         0.000000        0.000000          rbf   \n",
              "8       0.032681      0.000175         0.000000        0.000000          rbf   \n",
              "9     175.718088      0.800469        35.131488        0.346725       linear   \n",
              "\n",
              "  param_gamma param_degree param_C  \\\n",
              "0       float            1       8   \n",
              "1       scale            3       5   \n",
              "2       float            6       4   \n",
              "3       scale            5       2   \n",
              "4       scale            2       1   \n",
              "5       scale            1       3   \n",
              "6       float            2       6   \n",
              "7       float            3       9   \n",
              "8       float            5       2   \n",
              "9       scale            1       6   \n",
              "\n",
              "                                              params  split0_test_score  \\\n",
              "0  {'kernel': 'rbf', 'gamma': 'float', 'degree': ...                NaN   \n",
              "1  {'kernel': 'linear', 'gamma': 'scale', 'degree...             0.3299   \n",
              "2  {'kernel': 'rbf', 'gamma': 'float', 'degree': ...                NaN   \n",
              "3  {'kernel': 'linear', 'gamma': 'scale', 'degree...             0.3285   \n",
              "4  {'kernel': 'rbf', 'gamma': 'scale', 'degree': ...             0.3425   \n",
              "5  {'kernel': 'rbf', 'gamma': 'scale', 'degree': ...             0.3450   \n",
              "6  {'kernel': 'rbf', 'gamma': 'float', 'degree': ...                NaN   \n",
              "7  {'kernel': 'rbf', 'gamma': 'float', 'degree': ...                NaN   \n",
              "8  {'kernel': 'rbf', 'gamma': 'float', 'degree': ...                NaN   \n",
              "9  {'kernel': 'linear', 'gamma': 'scale', 'degree...             0.3300   \n",
              "\n",
              "   split1_test_score  split2_test_score  split3_test_score  split4_test_score  \\\n",
              "0                NaN                NaN                NaN                NaN   \n",
              "1             0.3405             0.3366             0.3308             0.3279   \n",
              "2                NaN                NaN                NaN                NaN   \n",
              "3             0.3410             0.3371             0.3310             0.3279   \n",
              "4             0.3540             0.3520             0.3448             0.3495   \n",
              "5             0.3484             0.3451             0.3470             0.3512   \n",
              "6                NaN                NaN                NaN                NaN   \n",
              "7                NaN                NaN                NaN                NaN   \n",
              "8                NaN                NaN                NaN                NaN   \n",
              "9             0.3415             0.3373             0.3315             0.3284   \n",
              "\n",
              "   mean_test_score  std_test_score  rank_test_score  \n",
              "0              NaN             NaN                6  \n",
              "1          0.33314        0.004681                4  \n",
              "2              NaN             NaN                7  \n",
              "3          0.33310        0.005119                5  \n",
              "4          0.34856        0.004317                1  \n",
              "5          0.34734        0.002308                2  \n",
              "6              NaN             NaN                8  \n",
              "7              NaN             NaN                9  \n",
              "8              NaN             NaN               10  \n",
              "9          0.33374        0.004907                3  "
            ],
            "text/html": [
              "\n",
              "  <div id=\"df-cf6daf7f-adb0-4d6d-99cf-a2eccd1385d5\">\n",
              "    <div class=\"colab-df-container\">\n",
              "      <div>\n",
              "<style scoped>\n",
              "    .dataframe tbody tr th:only-of-type {\n",
              "        vertical-align: middle;\n",
              "    }\n",
              "\n",
              "    .dataframe tbody tr th {\n",
              "        vertical-align: top;\n",
              "    }\n",
              "\n",
              "    .dataframe thead th {\n",
              "        text-align: right;\n",
              "    }\n",
              "</style>\n",
              "<table border=\"1\" class=\"dataframe\">\n",
              "  <thead>\n",
              "    <tr style=\"text-align: right;\">\n",
              "      <th></th>\n",
              "      <th>mean_fit_time</th>\n",
              "      <th>std_fit_time</th>\n",
              "      <th>mean_score_time</th>\n",
              "      <th>std_score_time</th>\n",
              "      <th>param_kernel</th>\n",
              "      <th>param_gamma</th>\n",
              "      <th>param_degree</th>\n",
              "      <th>param_C</th>\n",
              "      <th>params</th>\n",
              "      <th>split0_test_score</th>\n",
              "      <th>split1_test_score</th>\n",
              "      <th>split2_test_score</th>\n",
              "      <th>split3_test_score</th>\n",
              "      <th>split4_test_score</th>\n",
              "      <th>mean_test_score</th>\n",
              "      <th>std_test_score</th>\n",
              "      <th>rank_test_score</th>\n",
              "    </tr>\n",
              "  </thead>\n",
              "  <tbody>\n",
              "    <tr>\n",
              "      <th>0</th>\n",
              "      <td>0.051612</td>\n",
              "      <td>0.001858</td>\n",
              "      <td>0.000000</td>\n",
              "      <td>0.000000</td>\n",
              "      <td>rbf</td>\n",
              "      <td>float</td>\n",
              "      <td>1</td>\n",
              "      <td>8</td>\n",
              "      <td>{'kernel': 'rbf', 'gamma': 'float', 'degree': ...</td>\n",
              "      <td>NaN</td>\n",
              "      <td>NaN</td>\n",
              "      <td>NaN</td>\n",
              "      <td>NaN</td>\n",
              "      <td>NaN</td>\n",
              "      <td>NaN</td>\n",
              "      <td>NaN</td>\n",
              "      <td>6</td>\n",
              "    </tr>\n",
              "    <tr>\n",
              "      <th>1</th>\n",
              "      <td>190.447674</td>\n",
              "      <td>13.962916</td>\n",
              "      <td>38.826248</td>\n",
              "      <td>0.681723</td>\n",
              "      <td>linear</td>\n",
              "      <td>scale</td>\n",
              "      <td>3</td>\n",
              "      <td>5</td>\n",
              "      <td>{'kernel': 'linear', 'gamma': 'scale', 'degree...</td>\n",
              "      <td>0.3299</td>\n",
              "      <td>0.3405</td>\n",
              "      <td>0.3366</td>\n",
              "      <td>0.3308</td>\n",
              "      <td>0.3279</td>\n",
              "      <td>0.33314</td>\n",
              "      <td>0.004681</td>\n",
              "      <td>4</td>\n",
              "    </tr>\n",
              "    <tr>\n",
              "      <th>2</th>\n",
              "      <td>0.032934</td>\n",
              "      <td>0.000276</td>\n",
              "      <td>0.000000</td>\n",
              "      <td>0.000000</td>\n",
              "      <td>rbf</td>\n",
              "      <td>float</td>\n",
              "      <td>6</td>\n",
              "      <td>4</td>\n",
              "      <td>{'kernel': 'rbf', 'gamma': 'float', 'degree': ...</td>\n",
              "      <td>NaN</td>\n",
              "      <td>NaN</td>\n",
              "      <td>NaN</td>\n",
              "      <td>NaN</td>\n",
              "      <td>NaN</td>\n",
              "      <td>NaN</td>\n",
              "      <td>NaN</td>\n",
              "      <td>7</td>\n",
              "    </tr>\n",
              "    <tr>\n",
              "      <th>3</th>\n",
              "      <td>140.058878</td>\n",
              "      <td>0.672793</td>\n",
              "      <td>38.744985</td>\n",
              "      <td>0.219024</td>\n",
              "      <td>linear</td>\n",
              "      <td>scale</td>\n",
              "      <td>5</td>\n",
              "      <td>2</td>\n",
              "      <td>{'kernel': 'linear', 'gamma': 'scale', 'degree...</td>\n",
              "      <td>0.3285</td>\n",
              "      <td>0.3410</td>\n",
              "      <td>0.3371</td>\n",
              "      <td>0.3310</td>\n",
              "      <td>0.3279</td>\n",
              "      <td>0.33310</td>\n",
              "      <td>0.005119</td>\n",
              "      <td>5</td>\n",
              "    </tr>\n",
              "    <tr>\n",
              "      <th>4</th>\n",
              "      <td>219.051219</td>\n",
              "      <td>0.661376</td>\n",
              "      <td>65.049905</td>\n",
              "      <td>0.073947</td>\n",
              "      <td>rbf</td>\n",
              "      <td>scale</td>\n",
              "      <td>2</td>\n",
              "      <td>1</td>\n",
              "      <td>{'kernel': 'rbf', 'gamma': 'scale', 'degree': ...</td>\n",
              "      <td>0.3425</td>\n",
              "      <td>0.3540</td>\n",
              "      <td>0.3520</td>\n",
              "      <td>0.3448</td>\n",
              "      <td>0.3495</td>\n",
              "      <td>0.34856</td>\n",
              "      <td>0.004317</td>\n",
              "      <td>1</td>\n",
              "    </tr>\n",
              "    <tr>\n",
              "      <th>5</th>\n",
              "      <td>252.176691</td>\n",
              "      <td>0.677678</td>\n",
              "      <td>64.118859</td>\n",
              "      <td>0.118898</td>\n",
              "      <td>rbf</td>\n",
              "      <td>scale</td>\n",
              "      <td>1</td>\n",
              "      <td>3</td>\n",
              "      <td>{'kernel': 'rbf', 'gamma': 'scale', 'degree': ...</td>\n",
              "      <td>0.3450</td>\n",
              "      <td>0.3484</td>\n",
              "      <td>0.3451</td>\n",
              "      <td>0.3470</td>\n",
              "      <td>0.3512</td>\n",
              "      <td>0.34734</td>\n",
              "      <td>0.002308</td>\n",
              "      <td>2</td>\n",
              "    </tr>\n",
              "    <tr>\n",
              "      <th>6</th>\n",
              "      <td>0.034190</td>\n",
              "      <td>0.002278</td>\n",
              "      <td>0.000000</td>\n",
              "      <td>0.000000</td>\n",
              "      <td>rbf</td>\n",
              "      <td>float</td>\n",
              "      <td>2</td>\n",
              "      <td>6</td>\n",
              "      <td>{'kernel': 'rbf', 'gamma': 'float', 'degree': ...</td>\n",
              "      <td>NaN</td>\n",
              "      <td>NaN</td>\n",
              "      <td>NaN</td>\n",
              "      <td>NaN</td>\n",
              "      <td>NaN</td>\n",
              "      <td>NaN</td>\n",
              "      <td>NaN</td>\n",
              "      <td>8</td>\n",
              "    </tr>\n",
              "    <tr>\n",
              "      <th>7</th>\n",
              "      <td>0.032684</td>\n",
              "      <td>0.000224</td>\n",
              "      <td>0.000000</td>\n",
              "      <td>0.000000</td>\n",
              "      <td>rbf</td>\n",
              "      <td>float</td>\n",
              "      <td>3</td>\n",
              "      <td>9</td>\n",
              "      <td>{'kernel': 'rbf', 'gamma': 'float', 'degree': ...</td>\n",
              "      <td>NaN</td>\n",
              "      <td>NaN</td>\n",
              "      <td>NaN</td>\n",
              "      <td>NaN</td>\n",
              "      <td>NaN</td>\n",
              "      <td>NaN</td>\n",
              "      <td>NaN</td>\n",
              "      <td>9</td>\n",
              "    </tr>\n",
              "    <tr>\n",
              "      <th>8</th>\n",
              "      <td>0.032681</td>\n",
              "      <td>0.000175</td>\n",
              "      <td>0.000000</td>\n",
              "      <td>0.000000</td>\n",
              "      <td>rbf</td>\n",
              "      <td>float</td>\n",
              "      <td>5</td>\n",
              "      <td>2</td>\n",
              "      <td>{'kernel': 'rbf', 'gamma': 'float', 'degree': ...</td>\n",
              "      <td>NaN</td>\n",
              "      <td>NaN</td>\n",
              "      <td>NaN</td>\n",
              "      <td>NaN</td>\n",
              "      <td>NaN</td>\n",
              "      <td>NaN</td>\n",
              "      <td>NaN</td>\n",
              "      <td>10</td>\n",
              "    </tr>\n",
              "    <tr>\n",
              "      <th>9</th>\n",
              "      <td>175.718088</td>\n",
              "      <td>0.800469</td>\n",
              "      <td>35.131488</td>\n",
              "      <td>0.346725</td>\n",
              "      <td>linear</td>\n",
              "      <td>scale</td>\n",
              "      <td>1</td>\n",
              "      <td>6</td>\n",
              "      <td>{'kernel': 'linear', 'gamma': 'scale', 'degree...</td>\n",
              "      <td>0.3300</td>\n",
              "      <td>0.3415</td>\n",
              "      <td>0.3373</td>\n",
              "      <td>0.3315</td>\n",
              "      <td>0.3284</td>\n",
              "      <td>0.33374</td>\n",
              "      <td>0.004907</td>\n",
              "      <td>3</td>\n",
              "    </tr>\n",
              "  </tbody>\n",
              "</table>\n",
              "</div>\n",
              "      <button class=\"colab-df-convert\" onclick=\"convertToInteractive('df-cf6daf7f-adb0-4d6d-99cf-a2eccd1385d5')\"\n",
              "              title=\"Convert this dataframe to an interactive table.\"\n",
              "              style=\"display:none;\">\n",
              "        \n",
              "  <svg xmlns=\"http://www.w3.org/2000/svg\" height=\"24px\"viewBox=\"0 0 24 24\"\n",
              "       width=\"24px\">\n",
              "    <path d=\"M0 0h24v24H0V0z\" fill=\"none\"/>\n",
              "    <path d=\"M18.56 5.44l.94 2.06.94-2.06 2.06-.94-2.06-.94-.94-2.06-.94 2.06-2.06.94zm-11 1L8.5 8.5l.94-2.06 2.06-.94-2.06-.94L8.5 2.5l-.94 2.06-2.06.94zm10 10l.94 2.06.94-2.06 2.06-.94-2.06-.94-.94-2.06-.94 2.06-2.06.94z\"/><path d=\"M17.41 7.96l-1.37-1.37c-.4-.4-.92-.59-1.43-.59-.52 0-1.04.2-1.43.59L10.3 9.45l-7.72 7.72c-.78.78-.78 2.05 0 2.83L4 21.41c.39.39.9.59 1.41.59.51 0 1.02-.2 1.41-.59l7.78-7.78 2.81-2.81c.8-.78.8-2.07 0-2.86zM5.41 20L4 18.59l7.72-7.72 1.47 1.35L5.41 20z\"/>\n",
              "  </svg>\n",
              "      </button>\n",
              "      \n",
              "  <style>\n",
              "    .colab-df-container {\n",
              "      display:flex;\n",
              "      flex-wrap:wrap;\n",
              "      gap: 12px;\n",
              "    }\n",
              "\n",
              "    .colab-df-convert {\n",
              "      background-color: #E8F0FE;\n",
              "      border: none;\n",
              "      border-radius: 50%;\n",
              "      cursor: pointer;\n",
              "      display: none;\n",
              "      fill: #1967D2;\n",
              "      height: 32px;\n",
              "      padding: 0 0 0 0;\n",
              "      width: 32px;\n",
              "    }\n",
              "\n",
              "    .colab-df-convert:hover {\n",
              "      background-color: #E2EBFA;\n",
              "      box-shadow: 0px 1px 2px rgba(60, 64, 67, 0.3), 0px 1px 3px 1px rgba(60, 64, 67, 0.15);\n",
              "      fill: #174EA6;\n",
              "    }\n",
              "\n",
              "    [theme=dark] .colab-df-convert {\n",
              "      background-color: #3B4455;\n",
              "      fill: #D2E3FC;\n",
              "    }\n",
              "\n",
              "    [theme=dark] .colab-df-convert:hover {\n",
              "      background-color: #434B5C;\n",
              "      box-shadow: 0px 1px 3px 1px rgba(0, 0, 0, 0.15);\n",
              "      filter: drop-shadow(0px 1px 2px rgba(0, 0, 0, 0.3));\n",
              "      fill: #FFFFFF;\n",
              "    }\n",
              "  </style>\n",
              "\n",
              "      <script>\n",
              "        const buttonEl =\n",
              "          document.querySelector('#df-cf6daf7f-adb0-4d6d-99cf-a2eccd1385d5 button.colab-df-convert');\n",
              "        buttonEl.style.display =\n",
              "          google.colab.kernel.accessAllowed ? 'block' : 'none';\n",
              "\n",
              "        async function convertToInteractive(key) {\n",
              "          const element = document.querySelector('#df-cf6daf7f-adb0-4d6d-99cf-a2eccd1385d5');\n",
              "          const dataTable =\n",
              "            await google.colab.kernel.invokeFunction('convertToInteractive',\n",
              "                                                     [key], {});\n",
              "          if (!dataTable) return;\n",
              "\n",
              "          const docLinkHtml = 'Like what you see? Visit the ' +\n",
              "            '<a target=\"_blank\" href=https://colab.research.google.com/notebooks/data_table.ipynb>data table notebook</a>'\n",
              "            + ' to learn more about interactive tables.';\n",
              "          element.innerHTML = '';\n",
              "          dataTable['output_type'] = 'display_data';\n",
              "          await google.colab.output.renderOutput(dataTable, element);\n",
              "          const docLink = document.createElement('div');\n",
              "          docLink.innerHTML = docLinkHtml;\n",
              "          element.appendChild(docLink);\n",
              "        }\n",
              "      </script>\n",
              "    </div>\n",
              "  </div>\n",
              "  "
            ]
          },
          "metadata": {},
          "execution_count": 20
        }
      ]
    },
    {
      "cell_type": "code",
      "source": [
        "# C=1 d=3\n",
        "svm_model = SVC(kernel='rbf', C=2, degree=5, decision_function_shape='ovr', verbose=3)\n",
        "svm_model.fit(X_train[0:100000],y_train[0:100000].values.ravel())\n"
      ],
      "metadata": {
        "colab": {
          "base_uri": "https://localhost:8080/"
        },
        "id": "OjiELg2G24oS",
        "outputId": "6dd1e6c7-8b19-4fa6-ef9a-89cad228c0ab"
      },
      "execution_count": null,
      "outputs": [
        {
          "output_type": "stream",
          "name": "stdout",
          "text": [
            "[LibSVM]"
          ]
        },
        {
          "output_type": "execute_result",
          "data": {
            "text/plain": [
              "SVC(C=2, degree=5, verbose=3)"
            ]
          },
          "metadata": {},
          "execution_count": 14
        }
      ]
    },
    {
      "cell_type": "code",
      "source": [
        "svm_model.score(X_train[0:100000], y_train[0:100000].values.ravel())\n"
      ],
      "metadata": {
        "id": "lvs7QGVdbk1q",
        "colab": {
          "base_uri": "https://localhost:8080/"
        },
        "outputId": "87b24d44-a7ff-4c21-f696-8cb156163385"
      },
      "execution_count": null,
      "outputs": [
        {
          "output_type": "execute_result",
          "data": {
            "text/plain": [
              "0.6554"
            ]
          },
          "metadata": {},
          "execution_count": 15
        }
      ]
    },
    {
      "cell_type": "code",
      "source": [
        "svm_model.score(X_test[0:100000], y_test[0:100000].values.ravel())"
      ],
      "metadata": {
        "id": "CQ_PBhUtgHrW",
        "colab": {
          "base_uri": "https://localhost:8080/"
        },
        "outputId": "b6b5209b-f409-4122-8324-66c8526ab71a"
      },
      "execution_count": null,
      "outputs": [
        {
          "output_type": "execute_result",
          "data": {
            "text/plain": [
              "0.37922"
            ]
          },
          "metadata": {},
          "execution_count": 16
        }
      ]
    },
    {
      "cell_type": "code",
      "source": [
        "svm_pred = svm_model.predict(X_test[0:30000])"
      ],
      "metadata": {
        "id": "Cg5MyFh_zzUi"
      },
      "execution_count": null,
      "outputs": []
    },
    {
      "cell_type": "code",
      "source": [
        "cm = confusion_matrix(y_test[0:30000], svm_pred, labels=svm_model.classes_)\n",
        "disp = ConfusionMatrixDisplay(cm)\n",
        "disp.plot()"
      ],
      "metadata": {
        "colab": {
          "base_uri": "https://localhost:8080/",
          "height": 301
        },
        "id": "R4cK3RuezzMi",
        "outputId": "d5a4079f-b884-4381-cdea-7ca2588867d0"
      },
      "execution_count": null,
      "outputs": [
        {
          "output_type": "execute_result",
          "data": {
            "text/plain": [
              "<sklearn.metrics._plot.confusion_matrix.ConfusionMatrixDisplay at 0x7f315568ad90>"
            ]
          },
          "metadata": {},
          "execution_count": 52
        },
        {
          "output_type": "display_data",
          "data": {
            "image/png": "[encoded data removed]",
            "text/plain": [
              "<Figure size 432x288 with 2 Axes>"
            ]
          },
          "metadata": {
            "needs_background": "light"
          }
        }
      ]
    },
    {
      "cell_type": "code",
      "source": [
        "from sklearn.metrics import classification_report\n",
        "print(classification_report(y_test[0:30000], svm_pred))"
      ],
      "metadata": {
        "colab": {
          "base_uri": "https://localhost:8080/"
        },
        "id": "g7D8LLcwSL-J",
        "outputId": "13535b66-2d92-4225-a1a7-83955416e878"
      },
      "execution_count": null,
      "outputs": [
        {
          "output_type": "stream",
          "name": "stdout",
          "text": [
            "              precision    recall  f1-score   support\n",
            "\n",
            "           0       0.34      0.23      0.27      1042\n",
            "           1       0.36      0.49      0.42      2354\n",
            "           2       0.32      0.37      0.34      2009\n",
            "           3       0.35      0.48      0.41      2903\n",
            "           4       0.28      0.11      0.16      1061\n",
            "           5       0.44      0.17      0.25       637\n",
            "           6       0.26      0.16      0.20      1793\n",
            "           7       0.54      0.38      0.45       747\n",
            "           8       0.26      0.25      0.25      1727\n",
            "           9       0.28      0.03      0.05       590\n",
            "          10       0.38      0.27      0.32      1076\n",
            "          11       0.57      0.76      0.65      3795\n",
            "          12       0.46      0.52      0.49      1793\n",
            "          13       0.32      0.49      0.39      2783\n",
            "          14       0.30      0.17      0.21      1275\n",
            "          15       0.52      0.24      0.33       956\n",
            "          16       0.26      0.19      0.22      1723\n",
            "          17       0.27      0.21      0.23      1736\n",
            "\n",
            "    accuracy                           0.38     30000\n",
            "   macro avg       0.36      0.31      0.31     30000\n",
            "weighted avg       0.37      0.38      0.36     30000\n",
            "\n"
          ]
        }
      ]
    },
    {
      "cell_type": "code",
      "source": [
        "# saving model \n",
        "import joblib\n",
        "# Save the model as a pickle in a file\n",
        "joblib.dump(svm_model, '/content/drive/MyDrive/Colab Notebooks/Arabic-Sentence-Ident/ML_model.pkl')\n",
        " \n",
        "# Load the model from the file\n",
        "svm_model_joblib = joblib.load('/content/drive/MyDrive/Colab Notebooks/Arabic-Sentence-Ident/ML_model.pkl')\n",
        " \n",
        "# Use the loaded model to make predictions\n",
        "#svm_model_joblib.predict(X_test)"
      ],
      "metadata": {
        "id": "c2IIqfa1uNC5"
      },
      "execution_count": null,
      "outputs": []
    },
    {
      "cell_type": "code",
      "source": [
        ""
      ],
      "metadata": {
        "id": "ptJwsRwduM7Q"
      },
      "execution_count": null,
      "outputs": []
    },
    {
      "cell_type": "code",
      "source": [
        ""
      ],
      "metadata": {
        "id": "y4C4UtTGuMzW"
      },
      "execution_count": null,
      "outputs": []
    },
    {
      "cell_type": "code",
      "source": [
        "\n"
      ],
      "metadata": {
        "id": "WVTETEJBzzC_"
      },
      "execution_count": null,
      "outputs": []
    },
    {
      "cell_type": "code",
      "source": [
        ""
      ],
      "metadata": {
        "id": "GJHyK7A8zy1X"
      },
      "execution_count": null,
      "outputs": []
    },
    {
      "cell_type": "markdown",
      "source": [
        "## **Deep Learning Modeling**"
      ],
      "metadata": {
        "id": "8Z4YRv9BeNF6"
      }
    },
    {
      "cell_type": "code",
      "source": [
        "# Defining the model input length.\n",
        "input_length = 200\n",
        "Embedding_dimensions = 100\n",
        "from tensorflow.keras.preprocessing.text import Tokenizer\n",
        "from tensorflow.keras.preprocessing.sequence import pad_sequences"
      ],
      "metadata": {
        "id": "3JKE-6pTMJd6"
      },
      "execution_count": null,
      "outputs": []
    },
    {
      "cell_type": "code",
      "source": [
        "# Label Encoding for Classes\n",
        "from tensorflow.keras.utils import to_categorical\n",
        "y_classes,_ = pd.factorize(y_data)\n",
        "y_classes = pd.DataFrame(y_classes)\n",
        "y = to_categorical(y_classes)"
      ],
      "metadata": {
        "id": "cBcwPFmd0rqW"
      },
      "execution_count": null,
      "outputs": []
    },
    {
      "cell_type": "code",
      "source": [
        "vocab_length = 247166\n",
        "\n",
        "tokenizer = Tokenizer(filters=\"#\", lower=False, oov_token=\"<oov>\")\n",
        "tokenizer.fit_on_texts(X_data)\n",
        "tokenizer.num_words = vocab_length\n",
        "print(\"Tokenizer vocab length:\", vocab_length)"
      ],
      "metadata": {
        "colab": {
          "base_uri": "https://localhost:8080/"
        },
        "id": "AKuVh_j0atAV",
        "outputId": "283a827e-fbe0-42be-8f2e-d2afc6959b05"
      },
      "execution_count": null,
      "outputs": [
        {
          "output_type": "stream",
          "name": "stdout",
          "text": [
            "Tokenizer vocab length: 247166\n"
          ]
        }
      ]
    },
    {
      "cell_type": "code",
      "source": [
        "# Train and Test split\n",
        "X_train, X_test, y_train, y_test = train_test_split(X_data, y,test_size = 0.25, random_state = 0, stratify=y)"
      ],
      "metadata": {
        "id": "fV_iJrQME-wO"
      },
      "execution_count": null,
      "outputs": []
    },
    {
      "cell_type": "code",
      "source": [
        "# Padding and Tokenizing Preprocced Data\n",
        "X_train = pad_sequences(tokenizer.texts_to_sequences(X_train), maxlen=input_length)\n",
        "X_test  = pad_sequences(tokenizer.texts_to_sequences(X_test) , maxlen=input_length)\n",
        "\n",
        "print(\"X_train.shape:\", X_train.shape)\n",
        "print(\"X_test.shape :\", X_test.shape)"
      ],
      "metadata": {
        "id": "HIJvlGQGJkg5",
        "colab": {
          "base_uri": "https://localhost:8080/"
        },
        "outputId": "6af6eeb2-ba59-4530-ba0b-8ea2631a7bb9"
      },
      "execution_count": null,
      "outputs": [
        {
          "output_type": "stream",
          "name": "stdout",
          "text": [
            "X_train.shape: (343618, 200)\n",
            "X_test.shape : (114540, 200)\n"
          ]
        }
      ]
    },
    {
      "cell_type": "code",
      "source": [
        "# Embedding Matrix to be Fed for Deep Learning Model\n",
        "embedding_matrix = np.zeros((vocab_length, Embedding_dimensions))\n",
        "\n",
        "for word, token in tokenizer.word_index.items():\n",
        "    if word2vec_model.wv.__contains__(word):\n",
        "        embedding_matrix[token] = word2vec_model.wv.__getitem__(word)\n",
        "\n",
        "print(\"Embedding Matrix Shape:\", embedding_matrix.shape)\n"
      ],
      "metadata": {
        "id": "g9RJNAeFOhhx",
        "colab": {
          "base_uri": "https://localhost:8080/"
        },
        "outputId": "deec6ac4-bad1-43e0-8dd8-fddbfeb686f6"
      },
      "execution_count": null,
      "outputs": [
        {
          "output_type": "stream",
          "name": "stdout",
          "text": [
            "Embedding Matrix Shape: (247166, 100)\n"
          ]
        }
      ]
    },
    {
      "cell_type": "code",
      "source": [
        "from tensorflow.keras import Sequential\n",
        "from tensorflow.keras.layers import Bidirectional, GlobalMaxPool1D, Dense, LSTM, Conv1D, Embedding"
      ],
      "metadata": {
        "id": "L1GcqyqSGffQ"
      },
      "execution_count": null,
      "outputs": []
    },
    {
      "cell_type": "code",
      "source": [
        "# Building Deep Learning Model\n",
        "def getModel():\n",
        "    embedding_layer = Embedding(input_dim = vocab_length,\n",
        "                                output_dim = Embedding_dimensions,\n",
        "                                weights=[embedding_matrix],\n",
        "                                input_length=input_length,\n",
        "                                trainable=False)\n",
        "\n",
        "    model = Sequential([\n",
        "        embedding_layer,\n",
        "        Bidirectional(LSTM(100, dropout=0.2, return_sequences=True)),\n",
        "        Bidirectional(LSTM(100, dropout=0.2, return_sequences=True)),\n",
        "        Conv1D(100, 5, activation='tanh'),\n",
        "        GlobalMaxPool1D(),\n",
        "        Dense(25, activation='tanh'),\n",
        "        Dense(25, activation='tanh'),\n",
        "        Dense(18, activation='softmax'),\n",
        "    ],\n",
        "    name=\"Sentiment_Model\")\n",
        "    return model"
      ],
      "metadata": {
        "id": "ydHYMeRYGhoU"
      },
      "execution_count": null,
      "outputs": []
    },
    {
      "cell_type": "code",
      "source": [
        "# Model Summary\n",
        "training_model = getModel()\n",
        "training_model.summary()"
      ],
      "metadata": {
        "id": "_j5z0FfQcd3F",
        "colab": {
          "base_uri": "https://localhost:8080/"
        },
        "outputId": "bc25ca14-d08e-4ec6-c03d-bc503ac95072"
      },
      "execution_count": null,
      "outputs": [
        {
          "output_type": "stream",
          "name": "stdout",
          "text": [
            "Model: \"Sentiment_Model\"\n",
            "_________________________________________________________________\n",
            " Layer (type)                Output Shape              Param #   \n",
            "=================================================================\n",
            " embedding (Embedding)       (None, 200, 100)          24716600  \n",
            "                                                                 \n",
            " bidirectional (Bidirectiona  (None, 200, 200)         160800    \n",
            " l)                                                              \n",
            "                                                                 \n",
            " bidirectional_1 (Bidirectio  (None, 200, 200)         240800    \n",
            " nal)                                                            \n",
            "                                                                 \n",
            " conv1d (Conv1D)             (None, 196, 100)          100100    \n",
            "                                                                 \n",
            " global_max_pooling1d (Globa  (None, 100)              0         \n",
            " lMaxPooling1D)                                                  \n",
            "                                                                 \n",
            " dense (Dense)               (None, 25)                2525      \n",
            "                                                                 \n",
            " dense_1 (Dense)             (None, 25)                650       \n",
            "                                                                 \n",
            " dense_2 (Dense)             (None, 18)                468       \n",
            "                                                                 \n",
            "=================================================================\n",
            "Total params: 25,221,943\n",
            "Trainable params: 505,343\n",
            "Non-trainable params: 24,716,600\n",
            "_________________________________________________________________\n"
          ]
        }
      ]
    },
    {
      "cell_type": "code",
      "source": [
        "# Define CallBacks\n",
        "from tensorflow.keras.callbacks import ReduceLROnPlateau, EarlyStopping\n",
        "\n",
        "callbacks = [ReduceLROnPlateau(monitor='val_loss', patience=4, cooldown=0),\n",
        "             EarlyStopping(monitor='val_accuracy', min_delta=1e-7, patience=8)]"
      ],
      "metadata": {
        "id": "eG2t9JAJfV6E"
      },
      "execution_count": null,
      "outputs": []
    },
    {
      "cell_type": "code",
      "source": [
        "# Model Compile \n",
        "training_model.compile(loss='categorical_crossentropy', optimizer='rmsprop', metrics=['accuracy'])"
      ],
      "metadata": {
        "id": "C08hKH2tgOUD"
      },
      "execution_count": null,
      "outputs": []
    },
    {
      "cell_type": "code",
      "source": [
        "# Model Training\n",
        "\n",
        "history = training_model.fit(X_train, y_train, batch_size=512, epochs=80, validation_split=0.1, callbacks=callbacks, verbose=1,)"
      ],
      "metadata": {
        "colab": {
          "base_uri": "https://localhost:8080/"
        },
        "id": "wQX9FU_Ihwy9",
        "outputId": "1feab94f-d313-46c6-964f-83af1994bdd2"
      },
      "execution_count": null,
      "outputs": [
        {
          "output_type": "stream",
          "name": "stdout",
          "text": [
            "Epoch 1/80\n",
            "605/605 [==============================] - 310s 482ms/step - loss: 2.2506 - accuracy: 0.2968 - val_loss: 2.2401 - val_accuracy: 0.3109 - lr: 0.0010\n",
            "Epoch 2/80\n",
            "605/605 [==============================] - 292s 483ms/step - loss: 2.0028 - accuracy: 0.3705 - val_loss: 2.0619 - val_accuracy: 0.3573 - lr: 0.0010\n",
            "Epoch 3/80\n",
            "605/605 [==============================] - 292s 482ms/step - loss: 1.9008 - accuracy: 0.4011 - val_loss: 1.9346 - val_accuracy: 0.3869 - lr: 0.0010\n",
            "Epoch 4/80\n",
            "605/605 [==============================] - 292s 482ms/step - loss: 1.8362 - accuracy: 0.4208 - val_loss: 1.9096 - val_accuracy: 0.4005 - lr: 0.0010\n",
            "Epoch 5/80\n",
            "605/605 [==============================] - 293s 484ms/step - loss: 1.7855 - accuracy: 0.4361 - val_loss: 1.8783 - val_accuracy: 0.4101 - lr: 0.0010\n",
            "Epoch 6/80\n",
            "605/605 [==============================] - 293s 484ms/step - loss: 1.7454 - accuracy: 0.4487 - val_loss: 1.7857 - val_accuracy: 0.4340 - lr: 0.0010\n",
            "Epoch 7/80\n",
            "605/605 [==============================] - 293s 484ms/step - loss: 1.7131 - accuracy: 0.4577 - val_loss: 1.7727 - val_accuracy: 0.4397 - lr: 0.0010\n",
            "Epoch 8/80\n",
            "605/605 [==============================] - 293s 484ms/step - loss: 1.6833 - accuracy: 0.4673 - val_loss: 1.9613 - val_accuracy: 0.3862 - lr: 0.0010\n",
            "Epoch 9/80\n",
            "605/605 [==============================] - 293s 484ms/step - loss: 1.6588 - accuracy: 0.4744 - val_loss: 1.7624 - val_accuracy: 0.4497 - lr: 0.0010\n",
            "Epoch 10/80\n",
            "605/605 [==============================] - 292s 483ms/step - loss: 1.6378 - accuracy: 0.4820 - val_loss: 1.7085 - val_accuracy: 0.4601 - lr: 0.0010\n",
            "Epoch 11/80\n",
            "605/605 [==============================] - 292s 483ms/step - loss: 1.6156 - accuracy: 0.4883 - val_loss: 1.7229 - val_accuracy: 0.4591 - lr: 0.0010\n",
            "Epoch 12/80\n",
            "605/605 [==============================] - 292s 483ms/step - loss: 1.5994 - accuracy: 0.4937 - val_loss: 1.6956 - val_accuracy: 0.4721 - lr: 0.0010\n",
            "Epoch 13/80\n",
            "605/605 [==============================] - 293s 484ms/step - loss: 1.5818 - accuracy: 0.4987 - val_loss: 1.7136 - val_accuracy: 0.4633 - lr: 0.0010\n",
            "Epoch 14/80\n",
            "605/605 [==============================] - 292s 483ms/step - loss: 1.5677 - accuracy: 0.5020 - val_loss: 1.6584 - val_accuracy: 0.4728 - lr: 0.0010\n",
            "Epoch 15/80\n",
            "605/605 [==============================] - 292s 483ms/step - loss: 1.5542 - accuracy: 0.5061 - val_loss: 1.6484 - val_accuracy: 0.4791 - lr: 0.0010\n",
            "Epoch 16/80\n",
            "605/605 [==============================] - 292s 483ms/step - loss: 1.5427 - accuracy: 0.5100 - val_loss: 1.6909 - val_accuracy: 0.4649 - lr: 0.0010\n",
            "Epoch 17/80\n",
            "605/605 [==============================] - 292s 483ms/step - loss: 1.5303 - accuracy: 0.5141 - val_loss: 1.6596 - val_accuracy: 0.4796 - lr: 0.0010\n",
            "Epoch 18/80\n",
            "605/605 [==============================] - 292s 483ms/step - loss: 1.5183 - accuracy: 0.5176 - val_loss: 1.6366 - val_accuracy: 0.4860 - lr: 0.0010\n",
            "Epoch 19/80\n",
            "605/605 [==============================] - 292s 482ms/step - loss: 1.5084 - accuracy: 0.5205 - val_loss: 1.6579 - val_accuracy: 0.4799 - lr: 0.0010\n",
            "Epoch 20/80\n",
            "605/605 [==============================] - 292s 483ms/step - loss: 1.4994 - accuracy: 0.5239 - val_loss: 1.6504 - val_accuracy: 0.4786 - lr: 0.0010\n",
            "Epoch 21/80\n",
            "605/605 [==============================] - 292s 483ms/step - loss: 1.4906 - accuracy: 0.5258 - val_loss: 1.6657 - val_accuracy: 0.4815 - lr: 0.0010\n",
            "Epoch 22/80\n",
            "605/605 [==============================] - 292s 483ms/step - loss: 1.4813 - accuracy: 0.5284 - val_loss: 1.6307 - val_accuracy: 0.4890 - lr: 0.0010\n",
            "Epoch 23/80\n",
            "605/605 [==============================] - 292s 482ms/step - loss: 1.4718 - accuracy: 0.5320 - val_loss: 1.6138 - val_accuracy: 0.4920 - lr: 0.0010\n",
            "Epoch 24/80\n",
            "605/605 [==============================] - 292s 482ms/step - loss: 1.4647 - accuracy: 0.5340 - val_loss: 1.6445 - val_accuracy: 0.4851 - lr: 0.0010\n",
            "Epoch 25/80\n",
            "605/605 [==============================] - 292s 482ms/step - loss: 1.4569 - accuracy: 0.5362 - val_loss: 1.6493 - val_accuracy: 0.4870 - lr: 0.0010\n",
            "Epoch 26/80\n",
            "605/605 [==============================] - 291s 482ms/step - loss: 1.4521 - accuracy: 0.5368 - val_loss: 1.6295 - val_accuracy: 0.4922 - lr: 0.0010\n",
            "Epoch 27/80\n",
            "605/605 [==============================] - 291s 482ms/step - loss: 1.4434 - accuracy: 0.5400 - val_loss: 1.6458 - val_accuracy: 0.4825 - lr: 0.0010\n",
            "Epoch 28/80\n",
            "605/605 [==============================] - 292s 482ms/step - loss: 1.3985 - accuracy: 0.5538 - val_loss: 1.5851 - val_accuracy: 0.5045 - lr: 1.0000e-04\n",
            "Epoch 29/80\n",
            "605/605 [==============================] - 291s 482ms/step - loss: 1.3859 - accuracy: 0.5585 - val_loss: 1.5858 - val_accuracy: 0.5054 - lr: 1.0000e-04\n",
            "Epoch 30/80\n",
            "605/605 [==============================] - 292s 482ms/step - loss: 1.3782 - accuracy: 0.5604 - val_loss: 1.5885 - val_accuracy: 0.5059 - lr: 1.0000e-04\n",
            "Epoch 31/80\n",
            "605/605 [==============================] - 292s 482ms/step - loss: 1.3771 - accuracy: 0.5605 - val_loss: 1.5876 - val_accuracy: 0.5052 - lr: 1.0000e-04\n",
            "Epoch 32/80\n",
            "605/605 [==============================] - 292s 482ms/step - loss: 1.3727 - accuracy: 0.5618 - val_loss: 1.5898 - val_accuracy: 0.5058 - lr: 1.0000e-04\n",
            "Epoch 33/80\n",
            "605/605 [==============================] - 292s 483ms/step - loss: 1.3660 - accuracy: 0.5641 - val_loss: 1.5882 - val_accuracy: 0.5070 - lr: 1.0000e-05\n",
            "Epoch 34/80\n",
            "605/605 [==============================] - 291s 482ms/step - loss: 1.3643 - accuracy: 0.5652 - val_loss: 1.5883 - val_accuracy: 0.5072 - lr: 1.0000e-05\n",
            "Epoch 35/80\n",
            "104/605 [====>.........................] - ETA: 3:54 - loss: 1.3630 - accuracy: 0.5655"
          ]
        }
      ]
    },
    {
      "cell_type": "code",
      "source": [
        "# Saving Nodel History\n",
        "with open('/content/drive/MyDrive/Colab Notebooks/Arabic-Sentence-Ident/history.pickle', 'wb') as file:\n",
        "  pickle.dump(history.history, file)"
      ],
      "metadata": {
        "id": "ssaz47KM78rK"
      },
      "execution_count": null,
      "outputs": []
    },
    {
      "cell_type": "code",
      "source": [
        "# Saving Models\n",
        "\n",
        "# Saving the tokenizer\n",
        "with open('/content/drive/MyDrive/Colab Notebooks/Arabic-Sentence-Ident/Tokenizer.pickle', 'wb') as file:\n",
        "    pickle.dump(tokenizer, file)\n",
        "\n",
        "# Saving the TF-Model.\n",
        "training_model.save('/content/drive/MyDrive/Colab Notebooks/Arabic-Sentence-Ident/Sentiment-BiLSTM')\n",
        "training_model.save_weights(\"/content/drive/MyDrive/Colab Notebooks/Arabic-Sentence-Ident/BiLSTM_Weights/weights\")\n"
      ],
      "metadata": {
        "id": "63FXSRiuOYXj"
      },
      "execution_count": null,
      "outputs": []
    },
    {
      "cell_type": "code",
      "source": [
        "# load history\n",
        "history_file = open('/content/drive/MyDrive/Colab Notebooks/Arabic-Sentence-Ident/history.pickle', 'rb')\n",
        "loaded_history = pickle.load(history_file)"
      ],
      "metadata": {
        "id": "aUyzjm5N1pVC"
      },
      "execution_count": null,
      "outputs": []
    },
    {
      "cell_type": "code",
      "source": [
        "# Printing Learning Curve (Old Accuracy of 53% Accuracy\n",
        "\n",
        "acc,  val_acc  = loaded_history['accuracy'], loaded_history['val_accuracy']\n",
        "loss, val_loss = loaded_history['loss'], loaded_history['val_loss']\n",
        "epochs = range(len(acc))\n",
        "\n",
        "plt.plot(epochs, acc, 'b', label='Training acc')\n",
        "plt.plot(epochs, val_acc, 'r', label='Validation acc')\n",
        "plt.title('Training and validation accuracy')\n",
        "plt.legend()\n",
        "\n",
        "plt.figure()\n",
        "\n",
        "plt.plot(epochs, loss, 'b', label='Training loss')\n",
        "plt.plot(epochs, val_loss, 'r', label='Validation loss')\n",
        "plt.title('Training and validation loss')\n",
        "plt.legend()\n",
        "\n",
        "plt.show()"
      ],
      "metadata": {
        "id": "kWdQ-SelycU1",
        "colab": {
          "base_uri": "https://localhost:8080/",
          "height": 548
        },
        "outputId": "af06dba9-aca0-48fc-ae31-9a23c05438bb"
      },
      "execution_count": null,
      "outputs": [
        {
          "output_type": "display_data",
          "data": {
            "text/plain": [
              "<Figure size 432x288 with 1 Axes>"
            ],
            "image/png": "[encoded data removed]"
          },
          "metadata": {
            "needs_background": "light"
          }
        },
        {
          "output_type": "display_data",
          "data": {
            "text/plain": [
              "<Figure size 432x288 with 1 Axes>"
            ],
            "image/png": "[encoded data removed]"
          },
          "metadata": {
            "needs_background": "light"
          }
        }
      ]
    }
  ]
}