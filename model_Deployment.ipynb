{
  "nbformat": 4,
  "nbformat_minor": 0,
  "metadata": {
    "colab": {
      "name": "model_Deployment.ipynb",
      "provenance": [],
      "collapsed_sections": [],
      "authorship_tag": "ABX9TyORPk6NdgU8LEUZV+pN3k+D",
      "include_colab_link": true
    },
    "kernelspec": {
      "name": "python3",
      "display_name": "Python 3"
    },
    "language_info": {
      "name": "python"
    }
  },
  "cells": [
    {
      "cell_type": "markdown",
      "metadata": {
        "id": "view-in-github",
        "colab_type": "text"
      },
      "source": [
        "<a href=\"https://colab.research.google.com/github/Remon128/Arabic_Dialect_Sentiment_Analysis/blob/main/model_Deployment.ipynb\" target=\"_parent\"><img src=\"https://colab.research.google.com/assets/colab-badge.svg\" alt=\"Open In Colab\"/></a>"
      ]
    },
    {
      "cell_type": "code",
      "execution_count": null,
      "metadata": {
        "id": "as25JAhmZQ_e"
      },
      "outputs": [],
      "source": [
        "import pandas as pd\n",
        "import numpy  as np\n",
        "from gensim.models import word2vec\n",
        "import pickle\n",
        "\n",
        "from tensorflow.keras.preprocessing.text import Tokenizer\n",
        "from tensorflow.keras.preprocessing.sequence import pad_sequences\n",
        "import tensorflow as tf\n",
        "import joblib"
      ]
    },
    {
      "cell_type": "code",
      "source": [
        "from google.colab import drive\n",
        "drive.mount('/content/drive')"
      ],
      "metadata": {
        "colab": {
          "base_uri": "https://localhost:8080/"
        },
        "id": "ZQtr_ih9eloU",
        "outputId": "fea73667-5b0c-4fdd-e3fa-c14def2cbe1e"
      },
      "execution_count": null,
      "outputs": [
        {
          "output_type": "stream",
          "name": "stdout",
          "text": [
            "Mounted at /content/drive\n"
          ]
        }
      ]
    },
    {
      "cell_type": "code",
      "source": [
        "# Install important libs\n",
        "!pip3 install --upgrade gensim"
      ],
      "metadata": {
        "id": "m77y-veBeTmt"
      },
      "execution_count": null,
      "outputs": []
    },
    {
      "cell_type": "code",
      "source": [
        "# Loading models\n",
        "word2vec_model = word2vec.Word2Vec()\n",
        "word2vec_model = word2vec_model.wv.load(\"/content/drive/MyDrive/Colab Notebooks/Arabic-Sentence-Ident/word2vec_twitter_Model\")"
      ],
      "metadata": {
        "id": "-BzS72CHe1ys"
      },
      "execution_count": null,
      "outputs": []
    },
    {
      "cell_type": "code",
      "source": [
        "word2vec_model.most_similar('قول')"
      ],
      "metadata": {
        "id": "A900-Is--BL0"
      },
      "execution_count": null,
      "outputs": []
    },
    {
      "cell_type": "code",
      "source": [
        "data = pd.read_csv(\"/content/drive/MyDrive/Colab Notebooks/Arabic-Sentence-Ident/dialect_dataset_v_prep.csv\", index_col=[0])"
      ],
      "metadata": {
        "id": "4VAIOaNucLX-"
      },
      "execution_count": null,
      "outputs": []
    },
    {
      "cell_type": "code",
      "source": [
        "# Loading arabert App\n",
        "\n",
        "# Cloning and installing arabert dependencies\n",
        "#change dir to project dir\n",
        "%cd \"/content/drive/MyDrive/Colab Notebooks/Arabic-Sentence-Ident\"\n",
        "#clone arabert library\n",
        "!git clone \"https://github.com/aub-mind/arabert.git\"\n",
        "#install farasapy dependencies\n",
        "!pip install farasapy\n",
        "#install pyarabic dependencies\n",
        "!pip install pyarabic"
      ],
      "metadata": {
        "id": "UKZIE4fs-t-u"
      },
      "execution_count": null,
      "outputs": []
    },
    {
      "cell_type": "code",
      "source": [
        "from arabert.preprocess import ArabertPreprocessor"
      ],
      "metadata": {
        "id": "IS_j1-IUtcD4"
      },
      "execution_count": null,
      "outputs": []
    },
    {
      "cell_type": "code",
      "source": [
        "model_name = \"aubmindlab/bert-base-arabertv2\"\n",
        "arabert_prep = ArabertPreprocessor(model_name=model_name, apply_farasa_segmentation= True)"
      ],
      "metadata": {
        "id": "EoDR1oyBB4Wu"
      },
      "execution_count": null,
      "outputs": []
    },
    {
      "cell_type": "code",
      "source": [
        "# Testing arabert model\n",
        "text = \"@3lgwEDrtQnddUUp @Mohassad71 والله الخبر عند ص @ha___m___ed والله العظيم ضحكتني  ي\"\n",
        "arabert_prep.preprocess(text)"
      ],
      "metadata": {
        "colab": {
          "base_uri": "https://localhost:8080/",
          "height": 36
        },
        "id": "PYU3UZYfCCMS",
        "outputId": "42bedda4-47b2-4512-f624-25668db0ebf4"
      },
      "execution_count": null,
      "outputs": [
        {
          "output_type": "execute_result",
          "data": {
            "text/plain": [
              "'[مستخدم] [مستخدم] و+ الله ال+ خبر عند ص [مستخدم] و+ الله ال+ عظيم ضحكتني ي'"
            ],
            "application/vnd.google.colaboratory.intrinsic+json": {
              "type": "string"
            }
          },
          "metadata": {},
          "execution_count": 7
        }
      ]
    },
    {
      "cell_type": "code",
      "source": [
        "#Insall Flask Important Libraries\n",
        "!pip install flask-ngrok\n",
        "!pip install pyngrok"
      ],
      "metadata": {
        "id": "PtGE-NJYETEq"
      },
      "execution_count": null,
      "outputs": []
    },
    {
      "cell_type": "code",
      "source": [
        "!curl -s https://ngrok-agent.s3.amazonaws.com/ngrok.asc | sudo tee /etc/apt/trusted.gpg.d/ngrok.asc >/dev/null && echo \"deb https://ngrok-agent.s3.amazonaws.com buster main\" | sudo tee /etc/apt/sources.list.d/ngrok.list && sudo apt update && sudo apt install ngrok   \n",
        "              "
      ],
      "metadata": {
        "id": "n1vfs4XF6L7K"
      },
      "execution_count": null,
      "outputs": []
    },
    {
      "cell_type": "code",
      "source": [
        "# Flask ngrok authentication\n",
        "!ngrok authtoken 269LPeiVyUqSTONcwiIctCXoyjq_54JtqeR6C7MUoMyChx3fc"
      ],
      "metadata": {
        "colab": {
          "base_uri": "https://localhost:8080/"
        },
        "id": "fR7alBYYFGAc",
        "outputId": "360c8132-b967-4dbc-fb14-51c90d82ea07"
      },
      "execution_count": null,
      "outputs": [
        {
          "output_type": "stream",
          "name": "stdout",
          "text": [
            "Authtoken saved to configuration file: /root/.ngrok2/ngrok.yml\n"
          ]
        }
      ]
    },
    {
      "cell_type": "code",
      "source": [
        "# Loading Saved Tokens and Models\n",
        "token_file =  open('/content/drive/MyDrive/Colab Notebooks/Arabic-Sentence-Ident/Tokenizer.pickle', 'rb')\n",
        "tokens = pickle.load(token_file)\n",
        "bi_lstm_Model = tf.keras.models.load_model('/content/drive/MyDrive/Colab Notebooks/Arabic-Sentence-Ident/Sentiment-BiLSTM')"
      ],
      "metadata": {
        "id": "W4m8wuATZUl9"
      },
      "execution_count": null,
      "outputs": []
    },
    {
      "cell_type": "code",
      "source": [
        "# Load and Predict Output\n",
        "def load_and_Predict_Input(Input,tokens, model):\n",
        "  test = pad_sequences(tokens.texts_to_sequences(input) , maxlen=100)\n",
        "  y_pred = bi_lstm_Model.predict(test)\n",
        "  i, j = np.unravel_index(np.argmax(y_pred), y_pred.shape)\n",
        "  labels_name = data['Dialect'].unique()\n",
        "  pred = labels_name[j]\n",
        "  return pred"
      ],
      "metadata": {
        "id": "AabSJ-nSFaty"
      },
      "execution_count": null,
      "outputs": []
    },
    {
      "cell_type": "code",
      "source": [
        "input = \" ازيك عامل ايه طمني عليك؟\"\n",
        "load_and_Predict_Input(input, tokens, bi_lstm_Model)"
      ],
      "metadata": {
        "colab": {
          "base_uri": "https://localhost:8080/",
          "height": 36
        },
        "id": "V15nzDkuHcML",
        "outputId": "b04d5c5c-ea16-4c3e-aa46-7916ca191bba"
      },
      "execution_count": null,
      "outputs": [
        {
          "output_type": "execute_result",
          "data": {
            "text/plain": [
              "'PL'"
            ],
            "application/vnd.google.colaboratory.intrinsic+json": {
              "type": "string"
            }
          },
          "metadata": {},
          "execution_count": 15
        }
      ]
    },
    {
      "cell_type": "code",
      "source": [
        "from flask import Flask, request, render_template\n",
        "from flask_ngrok import run_with_ngrok"
      ],
      "metadata": {
        "id": "I1F76WaFRrtm"
      },
      "execution_count": null,
      "outputs": []
    },
    {
      "cell_type": "code",
      "source": [
        "# Creating Flask App\n",
        "\n",
        "app = Flask(__name__, template_folder=\"/content/drive/MyDrive/Colab Notebooks/Arabic-Sentence-Ident/templates\")\n",
        "#dT_model = pickle.load(open('Descion_Tree_Model.pickle', 'rb'))\n",
        "run_with_ngrok(app)\n",
        "#render_template('index.html')\n",
        "@app.route('/')\n",
        "def home():\n",
        "    return render_template('predict.html')\n",
        "\n",
        "@app.route('/Dialect_Predict', methods=['POST'])\n",
        "def Dialect_Predict():\n",
        "    input = [x for x in request.form.values()]\n",
        "    final_input = [np.array(input)]\n",
        "    predict = load_and_Predict_Input(final_input[0][0], tokens, bi_lstm_Model)\n",
        "    return render_template('predict.html', output='Predicted Dialect: {}'.format(predict))\n",
        "    \n",
        "\n",
        "if __name__ == \"__main__\":\n",
        "  app.debug\n",
        "  app.run()\n"
      ],
      "metadata": {
        "colab": {
          "base_uri": "https://localhost:8080/"
        },
        "id": "drhV7PKuCChb",
        "outputId": "8cb114c2-6f44-4ef0-9de9-df4f81f2e3f3"
      },
      "execution_count": null,
      "outputs": [
        {
          "output_type": "stream",
          "name": "stdout",
          "text": [
            " * Serving Flask app \"__main__\" (lazy loading)\n",
            " * Environment: production\n",
            "\u001b[31m   WARNING: This is a development server. Do not use it in a production deployment.\u001b[0m\n",
            "\u001b[2m   Use a production WSGI server instead.\u001b[0m\n",
            " * Debug mode: off\n"
          ]
        },
        {
          "output_type": "stream",
          "name": "stderr",
          "text": [
            " * Running on http://127.0.0.1:5000/ (Press CTRL+C to quit)\n"
          ]
        },
        {
          "output_type": "stream",
          "name": "stdout",
          "text": [
            " * Running on http://1db8-34-125-186-29.ngrok.io\n",
            " * Traffic stats available on http://127.0.0.1:4040\n"
          ]
        },
        {
          "output_type": "stream",
          "name": "stderr",
          "text": [
            "127.0.0.1 - - [13/Mar/2022 17:44:19] \"\u001b[37mGET / HTTP/1.1\u001b[0m\" 200 -\n",
            "127.0.0.1 - - [13/Mar/2022 17:44:20] \"\u001b[33mGET /favicon.ico HTTP/1.1\u001b[0m\" 404 -\n",
            "127.0.0.1 - - [13/Mar/2022 17:44:40] \"\u001b[37mPOST /Dialect_Predict HTTP/1.1\u001b[0m\" 200 -\n",
            "127.0.0.1 - - [13/Mar/2022 17:49:23] \"\u001b[37mGET / HTTP/1.1\u001b[0m\" 200 -\n"
          ]
        }
      ]
    },
    {
      "cell_type": "code",
      "source": [
        "\n"
      ],
      "metadata": {
        "id": "QdKgrQNeCDEC"
      },
      "execution_count": null,
      "outputs": []
    },
    {
      "cell_type": "code",
      "source": [
        "\n"
      ],
      "metadata": {
        "id": "kQ4k3j2sCg_i"
      },
      "execution_count": null,
      "outputs": []
    }
  ]
}